{
  "nbformat": 4,
  "nbformat_minor": 0,
  "metadata": {
    "colab": {
      "name": "Scott Corbitt LS_DS_112_Loading_Data_Assignment.ipynb",
      "version": "0.3.2",
      "provenance": [],
      "collapsed_sections": [],
      "include_colab_link": true
    },
    "kernelspec": {
      "name": "python3",
      "display_name": "Python 3"
    }
  },
  "cells": [
    {
      "cell_type": "markdown",
      "metadata": {
        "id": "view-in-github",
        "colab_type": "text"
      },
      "source": [
        "<a href=\"https://colab.research.google.com/github/corbittcoder/Angular2Dashboard/blob/master/module2-loadingdata/Scott_Corbitt_LS_DS_112_Loading_Data_Assignment.ipynb\" target=\"_parent\"><img src=\"https://colab.research.google.com/assets/colab-badge.svg\" alt=\"Open In Colab\"/></a>"
      ]
    },
    {
      "cell_type": "markdown",
      "metadata": {
        "colab_type": "text",
        "id": "MSnsTgZLKO72"
      },
      "source": [
        "# Practice Loading Datasets\n",
        "\n",
        "This assignment is purposely semi-open-ended you will be asked to load datasets both from github and also from CSV files from the [UC Irvine Machine Learning Repository](https://archive.ics.uci.edu/ml/index.php). \n",
        "\n",
        "Remember that the UCI datasets may not have a file type of `.csv` so it's important that you learn as much as you can about the dataset before you try and load it. See if you can look at the raw text of the file either locally, on github, using the `!curl` shell command, or in some other way before you try and read it in as a dataframe, this will help you catch what would otherwise be unforseen problems.\n"
      ]
    },
    {
      "cell_type": "markdown",
      "metadata": {
        "id": "156P6ndeKojO",
        "colab_type": "text"
      },
      "source": [
        "## 1) Load a dataset from Github (via its *RAW* URL)\n",
        "\n",
        "Pick a dataset from the following repository and load it into Google Colab. Make sure that the headers are what you would expect and check to see if missing values have been encoded as NaN values:\n",
        "\n",
        "<https://github.com/ryanleeallred/datasets>"
      ]
    },
    {
      "cell_type": "code",
      "metadata": {
        "id": "NJdISe69ZT7E",
        "colab_type": "code",
        "outputId": "c0239337-6740-48da-b082-71c67ded0670",
        "colab": {
          "base_uri": "https://localhost:8080/",
          "height": 203
        }
      },
      "source": [
        "# TODO your work here!\n",
        "# And note you should write comments, descriptions, and add new\n",
        "# code and text blocks as needed\n",
        "import pandas as pd\n",
        "url = 'https://raw.githubusercontent.com/ryanleeallred/datasets/master/diabetes.csv'\n",
        "\n",
        "df = pd.read_csv(url)\n",
        "df.head()"
      ],
      "execution_count": 4,
      "outputs": [
        {
          "output_type": "execute_result",
          "data": {
            "text/html": [
              "<div>\n",
              "<style scoped>\n",
              "    .dataframe tbody tr th:only-of-type {\n",
              "        vertical-align: middle;\n",
              "    }\n",
              "\n",
              "    .dataframe tbody tr th {\n",
              "        vertical-align: top;\n",
              "    }\n",
              "\n",
              "    .dataframe thead th {\n",
              "        text-align: right;\n",
              "    }\n",
              "</style>\n",
              "<table border=\"1\" class=\"dataframe\">\n",
              "  <thead>\n",
              "    <tr style=\"text-align: right;\">\n",
              "      <th></th>\n",
              "      <th>Pregnancies</th>\n",
              "      <th>Glucose</th>\n",
              "      <th>BloodPressure</th>\n",
              "      <th>SkinThickness</th>\n",
              "      <th>Insulin</th>\n",
              "      <th>BMI</th>\n",
              "      <th>DiabetesPedigreeFunction</th>\n",
              "      <th>Age</th>\n",
              "      <th>Outcome</th>\n",
              "    </tr>\n",
              "  </thead>\n",
              "  <tbody>\n",
              "    <tr>\n",
              "      <th>0</th>\n",
              "      <td>6</td>\n",
              "      <td>148</td>\n",
              "      <td>72</td>\n",
              "      <td>35</td>\n",
              "      <td>0</td>\n",
              "      <td>33.6</td>\n",
              "      <td>0.627</td>\n",
              "      <td>50</td>\n",
              "      <td>1</td>\n",
              "    </tr>\n",
              "    <tr>\n",
              "      <th>1</th>\n",
              "      <td>1</td>\n",
              "      <td>85</td>\n",
              "      <td>66</td>\n",
              "      <td>29</td>\n",
              "      <td>0</td>\n",
              "      <td>26.6</td>\n",
              "      <td>0.351</td>\n",
              "      <td>31</td>\n",
              "      <td>0</td>\n",
              "    </tr>\n",
              "    <tr>\n",
              "      <th>2</th>\n",
              "      <td>8</td>\n",
              "      <td>183</td>\n",
              "      <td>64</td>\n",
              "      <td>0</td>\n",
              "      <td>0</td>\n",
              "      <td>23.3</td>\n",
              "      <td>0.672</td>\n",
              "      <td>32</td>\n",
              "      <td>1</td>\n",
              "    </tr>\n",
              "    <tr>\n",
              "      <th>3</th>\n",
              "      <td>1</td>\n",
              "      <td>89</td>\n",
              "      <td>66</td>\n",
              "      <td>23</td>\n",
              "      <td>94</td>\n",
              "      <td>28.1</td>\n",
              "      <td>0.167</td>\n",
              "      <td>21</td>\n",
              "      <td>0</td>\n",
              "    </tr>\n",
              "    <tr>\n",
              "      <th>4</th>\n",
              "      <td>0</td>\n",
              "      <td>137</td>\n",
              "      <td>40</td>\n",
              "      <td>35</td>\n",
              "      <td>168</td>\n",
              "      <td>43.1</td>\n",
              "      <td>2.288</td>\n",
              "      <td>33</td>\n",
              "      <td>1</td>\n",
              "    </tr>\n",
              "  </tbody>\n",
              "</table>\n",
              "</div>"
            ],
            "text/plain": [
              "   Pregnancies  Glucose  BloodPressure  ...  DiabetesPedigreeFunction  Age  Outcome\n",
              "0            6      148             72  ...                     0.627   50        1\n",
              "1            1       85             66  ...                     0.351   31        0\n",
              "2            8      183             64  ...                     0.672   32        1\n",
              "3            1       89             66  ...                     0.167   21        0\n",
              "4            0      137             40  ...                     2.288   33        1\n",
              "\n",
              "[5 rows x 9 columns]"
            ]
          },
          "metadata": {
            "tags": []
          },
          "execution_count": 4
        }
      ]
    },
    {
      "cell_type": "markdown",
      "metadata": {
        "id": "-gFnZR6iLLPY",
        "colab_type": "text"
      },
      "source": [
        "## 2) Load a dataset from your local machine\n",
        "Download a dataset from the [UC Irvine Machine Learning Repository](https://archive.ics.uci.edu/ml/index.php) and then upload the file to Google Colab either using the files tab in the left-hand sidebar or by importing `files` from `google.colab` The following link will be a useful resource if you can't remember the syntax: <https://towardsdatascience.com/3-ways-to-load-csv-files-into-colab-7c14fcbdcb92>\n",
        "\n",
        "While you are free to try and load any dataset from the UCI repository, I strongly suggest starting with one of the most popular datasets like those that are featured on the right-hand side of the home page. \n",
        "\n",
        "Some datasets on UCI will have challenges associated with importing them far beyond what we have exposed you to in class today, so if you run into a dataset that you don't know how to deal with, struggle with it for a little bit, but ultimately feel free to simply choose a different one. \n",
        "\n",
        "- Make sure that your file has correct headers, and the same number of rows and columns as is specified on the UCI page. If your dataset doesn't have headers use the parameters of the `read_csv` function to add them. Likewise make sure that missing values are encoded as `NaN`."
      ]
    },
    {
      "cell_type": "code",
      "metadata": {
        "id": "qUmwX-ZoM9cq",
        "colab_type": "code",
        "colab": {
          "resources": {
            "http://localhost:8080/nbextensions/google.colab/files.js": {
              "data": "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",
              "ok": true,
              "headers": [
                [
                  "content-type",
                  "application/javascript"
                ]
              ],
              "status": 200,
              "status_text": ""
            }
          },
          "base_uri": "https://localhost:8080/",
          "height": 113
        },
        "outputId": "ed5fca5c-841d-492e-b964-231335565378"
      },
      "source": [
        "# TODO your work here!\n",
        "# And note you should write comments, descriptions, and add new\n",
        "# code and text blocks as needed\n",
        "\n",
        "from google.colab import files \n",
        "files.upload()"
      ],
      "execution_count": 32,
      "outputs": [
        {
          "output_type": "display_data",
          "data": {
            "text/html": [
              "\n",
              "     <input type=\"file\" id=\"files-b57a0f35-e5cd-4004-8e5a-6574ae80e5b4\" name=\"files[]\" multiple disabled />\n",
              "     <output id=\"result-b57a0f35-e5cd-4004-8e5a-6574ae80e5b4\">\n",
              "      Upload widget is only available when the cell has been executed in the\n",
              "      current browser session. Please rerun this cell to enable.\n",
              "      </output>\n",
              "      <script src=\"/nbextensions/google.colab/files.js\"></script> "
            ],
            "text/plain": [
              "<IPython.core.display.HTML object>"
            ]
          },
          "metadata": {
            "tags": []
          }
        },
        {
          "output_type": "stream",
          "text": [
            "Saving car.data to car (2).data\n"
          ],
          "name": "stdout"
        },
        {
          "output_type": "execute_result",
          "data": {
            "text/plain": [
              "{'car.data': b'vhigh,vhigh,2,2,small,low,unacc\\nvhigh,vhigh,2,2,small,med,unacc\\nvhigh,vhigh,2,2,small,high,unacc\\nvhigh,vhigh,2,2,med,low,unacc\\nvhigh,vhigh,2,2,med,med,unacc\\nvhigh,vhigh,2,2,med,high,unacc\\nvhigh,vhigh,2,2,big,low,unacc\\nvhigh,vhigh,2,2,big,med,unacc\\nvhigh,vhigh,2,2,big,high,unacc\\nvhigh,vhigh,2,4,small,low,unacc\\nvhigh,vhigh,2,4,small,med,unacc\\nvhigh,vhigh,2,4,small,high,unacc\\nvhigh,vhigh,2,4,med,low,unacc\\nvhigh,vhigh,2,4,med,med,unacc\\nvhigh,vhigh,2,4,med,high,unacc\\nvhigh,vhigh,2,4,big,low,unacc\\nvhigh,vhigh,2,4,big,med,unacc\\nvhigh,vhigh,2,4,big,high,unacc\\nvhigh,vhigh,2,more,small,low,unacc\\nvhigh,vhigh,2,more,small,med,unacc\\nvhigh,vhigh,2,more,small,high,unacc\\nvhigh,vhigh,2,more,med,low,unacc\\nvhigh,vhigh,2,more,med,med,unacc\\nvhigh,vhigh,2,more,med,high,unacc\\nvhigh,vhigh,2,more,big,low,unacc\\nvhigh,vhigh,2,more,big,med,unacc\\nvhigh,vhigh,2,more,big,high,unacc\\nvhigh,vhigh,3,2,small,low,unacc\\nvhigh,vhigh,3,2,small,med,unacc\\nvhigh,vhigh,3,2,small,high,unacc\\nvhigh,vhigh,3,2,med,low,unacc\\nvhigh,vhigh,3,2,med,med,unacc\\nvhigh,vhigh,3,2,med,high,unacc\\nvhigh,vhigh,3,2,big,low,unacc\\nvhigh,vhigh,3,2,big,med,unacc\\nvhigh,vhigh,3,2,big,high,unacc\\nvhigh,vhigh,3,4,small,low,unacc\\nvhigh,vhigh,3,4,small,med,unacc\\nvhigh,vhigh,3,4,small,high,unacc\\nvhigh,vhigh,3,4,med,low,unacc\\nvhigh,vhigh,3,4,med,med,unacc\\nvhigh,vhigh,3,4,med,high,unacc\\nvhigh,vhigh,3,4,big,low,unacc\\nvhigh,vhigh,3,4,big,med,unacc\\nvhigh,vhigh,3,4,big,high,unacc\\nvhigh,vhigh,3,more,small,low,unacc\\nvhigh,vhigh,3,more,small,med,unacc\\nvhigh,vhigh,3,more,small,high,unacc\\nvhigh,vhigh,3,more,med,low,unacc\\nvhigh,vhigh,3,more,med,med,unacc\\nvhigh,vhigh,3,more,med,high,unacc\\nvhigh,vhigh,3,more,big,low,unacc\\nvhigh,vhigh,3,more,big,med,unacc\\nvhigh,vhigh,3,more,big,high,unacc\\nvhigh,vhigh,4,2,small,low,unacc\\nvhigh,vhigh,4,2,small,med,unacc\\nvhigh,vhigh,4,2,small,high,unacc\\nvhigh,vhigh,4,2,med,low,unacc\\nvhigh,vhigh,4,2,med,med,unacc\\nvhigh,vhigh,4,2,med,high,unacc\\nvhigh,vhigh,4,2,big,low,unacc\\nvhigh,vhigh,4,2,big,med,unacc\\nvhigh,vhigh,4,2,big,high,unacc\\nvhigh,vhigh,4,4,small,low,unacc\\nvhigh,vhigh,4,4,small,med,unacc\\nvhigh,vhigh,4,4,small,high,unacc\\nvhigh,vhigh,4,4,med,low,unacc\\nvhigh,vhigh,4,4,med,med,unacc\\nvhigh,vhigh,4,4,med,high,unacc\\nvhigh,vhigh,4,4,big,low,unacc\\nvhigh,vhigh,4,4,big,med,unacc\\nvhigh,vhigh,4,4,big,high,unacc\\nvhigh,vhigh,4,more,small,low,unacc\\nvhigh,vhigh,4,more,small,med,unacc\\nvhigh,vhigh,4,more,small,high,unacc\\nvhigh,vhigh,4,more,med,low,unacc\\nvhigh,vhigh,4,more,med,med,unacc\\nvhigh,vhigh,4,more,med,high,unacc\\nvhigh,vhigh,4,more,big,low,unacc\\nvhigh,vhigh,4,more,big,med,unacc\\nvhigh,vhigh,4,more,big,high,unacc\\nvhigh,vhigh,5more,2,small,low,unacc\\nvhigh,vhigh,5more,2,small,med,unacc\\nvhigh,vhigh,5more,2,small,high,unacc\\nvhigh,vhigh,5more,2,med,low,unacc\\nvhigh,vhigh,5more,2,med,med,unacc\\nvhigh,vhigh,5more,2,med,high,unacc\\nvhigh,vhigh,5more,2,big,low,unacc\\nvhigh,vhigh,5more,2,big,med,unacc\\nvhigh,vhigh,5more,2,big,high,unacc\\nvhigh,vhigh,5more,4,small,low,unacc\\nvhigh,vhigh,5more,4,small,med,unacc\\nvhigh,vhigh,5more,4,small,high,unacc\\nvhigh,vhigh,5more,4,med,low,unacc\\nvhigh,vhigh,5more,4,med,med,unacc\\nvhigh,vhigh,5more,4,med,high,unacc\\nvhigh,vhigh,5more,4,big,low,unacc\\nvhigh,vhigh,5more,4,big,med,unacc\\nvhigh,vhigh,5more,4,big,high,unacc\\nvhigh,vhigh,5more,more,small,low,unacc\\nvhigh,vhigh,5more,more,small,med,unacc\\nvhigh,vhigh,5more,more,small,high,unacc\\nvhigh,vhigh,5more,more,med,low,unacc\\nvhigh,vhigh,5more,more,med,med,unacc\\nvhigh,vhigh,5more,more,med,high,unacc\\nvhigh,vhigh,5more,more,big,low,unacc\\nvhigh,vhigh,5more,more,big,med,unacc\\nvhigh,vhigh,5more,more,big,high,unacc\\nvhigh,high,2,2,small,low,unacc\\nvhigh,high,2,2,small,med,unacc\\nvhigh,high,2,2,small,high,unacc\\nvhigh,high,2,2,med,low,unacc\\nvhigh,high,2,2,med,med,unacc\\nvhigh,high,2,2,med,high,unacc\\nvhigh,high,2,2,big,low,unacc\\nvhigh,high,2,2,big,med,unacc\\nvhigh,high,2,2,big,high,unacc\\nvhigh,high,2,4,small,low,unacc\\nvhigh,high,2,4,small,med,unacc\\nvhigh,high,2,4,small,high,unacc\\nvhigh,high,2,4,med,low,unacc\\nvhigh,high,2,4,med,med,unacc\\nvhigh,high,2,4,med,high,unacc\\nvhigh,high,2,4,big,low,unacc\\nvhigh,high,2,4,big,med,unacc\\nvhigh,high,2,4,big,high,unacc\\nvhigh,high,2,more,small,low,unacc\\nvhigh,high,2,more,small,med,unacc\\nvhigh,high,2,more,small,high,unacc\\nvhigh,high,2,more,med,low,unacc\\nvhigh,high,2,more,med,med,unacc\\nvhigh,high,2,more,med,high,unacc\\nvhigh,high,2,more,big,low,unacc\\nvhigh,high,2,more,big,med,unacc\\nvhigh,high,2,more,big,high,unacc\\nvhigh,high,3,2,small,low,unacc\\nvhigh,high,3,2,small,med,unacc\\nvhigh,high,3,2,small,high,unacc\\nvhigh,high,3,2,med,low,unacc\\nvhigh,high,3,2,med,med,unacc\\nvhigh,high,3,2,med,high,unacc\\nvhigh,high,3,2,big,low,unacc\\nvhigh,high,3,2,big,med,unacc\\nvhigh,high,3,2,big,high,unacc\\nvhigh,high,3,4,small,low,unacc\\nvhigh,high,3,4,small,med,unacc\\nvhigh,high,3,4,small,high,unacc\\nvhigh,high,3,4,med,low,unacc\\nvhigh,high,3,4,med,med,unacc\\nvhigh,high,3,4,med,high,unacc\\nvhigh,high,3,4,big,low,unacc\\nvhigh,high,3,4,big,med,unacc\\nvhigh,high,3,4,big,high,unacc\\nvhigh,high,3,more,small,low,unacc\\nvhigh,high,3,more,small,med,unacc\\nvhigh,high,3,more,small,high,unacc\\nvhigh,high,3,more,med,low,unacc\\nvhigh,high,3,more,med,med,unacc\\nvhigh,high,3,more,med,high,unacc\\nvhigh,high,3,more,big,low,unacc\\nvhigh,high,3,more,big,med,unacc\\nvhigh,high,3,more,big,high,unacc\\nvhigh,high,4,2,small,low,unacc\\nvhigh,high,4,2,small,med,unacc\\nvhigh,high,4,2,small,high,unacc\\nvhigh,high,4,2,med,low,unacc\\nvhigh,high,4,2,med,med,unacc\\nvhigh,high,4,2,med,high,unacc\\nvhigh,high,4,2,big,low,unacc\\nvhigh,high,4,2,big,med,unacc\\nvhigh,high,4,2,big,high,unacc\\nvhigh,high,4,4,small,low,unacc\\nvhigh,high,4,4,small,med,unacc\\nvhigh,high,4,4,small,high,unacc\\nvhigh,high,4,4,med,low,unacc\\nvhigh,high,4,4,med,med,unacc\\nvhigh,high,4,4,med,high,unacc\\nvhigh,high,4,4,big,low,unacc\\nvhigh,high,4,4,big,med,unacc\\nvhigh,high,4,4,big,high,unacc\\nvhigh,high,4,more,small,low,unacc\\nvhigh,high,4,more,small,med,unacc\\nvhigh,high,4,more,small,high,unacc\\nvhigh,high,4,more,med,low,unacc\\nvhigh,high,4,more,med,med,unacc\\nvhigh,high,4,more,med,high,unacc\\nvhigh,high,4,more,big,low,unacc\\nvhigh,high,4,more,big,med,unacc\\nvhigh,high,4,more,big,high,unacc\\nvhigh,high,5more,2,small,low,unacc\\nvhigh,high,5more,2,small,med,unacc\\nvhigh,high,5more,2,small,high,unacc\\nvhigh,high,5more,2,med,low,unacc\\nvhigh,high,5more,2,med,med,unacc\\nvhigh,high,5more,2,med,high,unacc\\nvhigh,high,5more,2,big,low,unacc\\nvhigh,high,5more,2,big,med,unacc\\nvhigh,high,5more,2,big,high,unacc\\nvhigh,high,5more,4,small,low,unacc\\nvhigh,high,5more,4,small,med,unacc\\nvhigh,high,5more,4,small,high,unacc\\nvhigh,high,5more,4,med,low,unacc\\nvhigh,high,5more,4,med,med,unacc\\nvhigh,high,5more,4,med,high,unacc\\nvhigh,high,5more,4,big,low,unacc\\nvhigh,high,5more,4,big,med,unacc\\nvhigh,high,5more,4,big,high,unacc\\nvhigh,high,5more,more,small,low,unacc\\nvhigh,high,5more,more,small,med,unacc\\nvhigh,high,5more,more,small,high,unacc\\nvhigh,high,5more,more,med,low,unacc\\nvhigh,high,5more,more,med,med,unacc\\nvhigh,high,5more,more,med,high,unacc\\nvhigh,high,5more,more,big,low,unacc\\nvhigh,high,5more,more,big,med,unacc\\nvhigh,high,5more,more,big,high,unacc\\nvhigh,med,2,2,small,low,unacc\\nvhigh,med,2,2,small,med,unacc\\nvhigh,med,2,2,small,high,unacc\\nvhigh,med,2,2,med,low,unacc\\nvhigh,med,2,2,med,med,unacc\\nvhigh,med,2,2,med,high,unacc\\nvhigh,med,2,2,big,low,unacc\\nvhigh,med,2,2,big,med,unacc\\nvhigh,med,2,2,big,high,unacc\\nvhigh,med,2,4,small,low,unacc\\nvhigh,med,2,4,small,med,unacc\\nvhigh,med,2,4,small,high,acc\\nvhigh,med,2,4,med,low,unacc\\nvhigh,med,2,4,med,med,unacc\\nvhigh,med,2,4,med,high,acc\\nvhigh,med,2,4,big,low,unacc\\nvhigh,med,2,4,big,med,acc\\nvhigh,med,2,4,big,high,acc\\nvhigh,med,2,more,small,low,unacc\\nvhigh,med,2,more,small,med,unacc\\nvhigh,med,2,more,small,high,unacc\\nvhigh,med,2,more,med,low,unacc\\nvhigh,med,2,more,med,med,unacc\\nvhigh,med,2,more,med,high,acc\\nvhigh,med,2,more,big,low,unacc\\nvhigh,med,2,more,big,med,acc\\nvhigh,med,2,more,big,high,acc\\nvhigh,med,3,2,small,low,unacc\\nvhigh,med,3,2,small,med,unacc\\nvhigh,med,3,2,small,high,unacc\\nvhigh,med,3,2,med,low,unacc\\nvhigh,med,3,2,med,med,unacc\\nvhigh,med,3,2,med,high,unacc\\nvhigh,med,3,2,big,low,unacc\\nvhigh,med,3,2,big,med,unacc\\nvhigh,med,3,2,big,high,unacc\\nvhigh,med,3,4,small,low,unacc\\nvhigh,med,3,4,small,med,unacc\\nvhigh,med,3,4,small,high,acc\\nvhigh,med,3,4,med,low,unacc\\nvhigh,med,3,4,med,med,unacc\\nvhigh,med,3,4,med,high,acc\\nvhigh,med,3,4,big,low,unacc\\nvhigh,med,3,4,big,med,acc\\nvhigh,med,3,4,big,high,acc\\nvhigh,med,3,more,small,low,unacc\\nvhigh,med,3,more,small,med,unacc\\nvhigh,med,3,more,small,high,acc\\nvhigh,med,3,more,med,low,unacc\\nvhigh,med,3,more,med,med,acc\\nvhigh,med,3,more,med,high,acc\\nvhigh,med,3,more,big,low,unacc\\nvhigh,med,3,more,big,med,acc\\nvhigh,med,3,more,big,high,acc\\nvhigh,med,4,2,small,low,unacc\\nvhigh,med,4,2,small,med,unacc\\nvhigh,med,4,2,small,high,unacc\\nvhigh,med,4,2,med,low,unacc\\nvhigh,med,4,2,med,med,unacc\\nvhigh,med,4,2,med,high,unacc\\nvhigh,med,4,2,big,low,unacc\\nvhigh,med,4,2,big,med,unacc\\nvhigh,med,4,2,big,high,unacc\\nvhigh,med,4,4,small,low,unacc\\nvhigh,med,4,4,small,med,unacc\\nvhigh,med,4,4,small,high,acc\\nvhigh,med,4,4,med,low,unacc\\nvhigh,med,4,4,med,med,acc\\nvhigh,med,4,4,med,high,acc\\nvhigh,med,4,4,big,low,unacc\\nvhigh,med,4,4,big,med,acc\\nvhigh,med,4,4,big,high,acc\\nvhigh,med,4,more,small,low,unacc\\nvhigh,med,4,more,small,med,unacc\\nvhigh,med,4,more,small,high,acc\\nvhigh,med,4,more,med,low,unacc\\nvhigh,med,4,more,med,med,acc\\nvhigh,med,4,more,med,high,acc\\nvhigh,med,4,more,big,low,unacc\\nvhigh,med,4,more,big,med,acc\\nvhigh,med,4,more,big,high,acc\\nvhigh,med,5more,2,small,low,unacc\\nvhigh,med,5more,2,small,med,unacc\\nvhigh,med,5more,2,small,high,unacc\\nvhigh,med,5more,2,med,low,unacc\\nvhigh,med,5more,2,med,med,unacc\\nvhigh,med,5more,2,med,high,unacc\\nvhigh,med,5more,2,big,low,unacc\\nvhigh,med,5more,2,big,med,unacc\\nvhigh,med,5more,2,big,high,unacc\\nvhigh,med,5more,4,small,low,unacc\\nvhigh,med,5more,4,small,med,unacc\\nvhigh,med,5more,4,small,high,acc\\nvhigh,med,5more,4,med,low,unacc\\nvhigh,med,5more,4,med,med,acc\\nvhigh,med,5more,4,med,high,acc\\nvhigh,med,5more,4,big,low,unacc\\nvhigh,med,5more,4,big,med,acc\\nvhigh,med,5more,4,big,high,acc\\nvhigh,med,5more,more,small,low,unacc\\nvhigh,med,5more,more,small,med,unacc\\nvhigh,med,5more,more,small,high,acc\\nvhigh,med,5more,more,med,low,unacc\\nvhigh,med,5more,more,med,med,acc\\nvhigh,med,5more,more,med,high,acc\\nvhigh,med,5more,more,big,low,unacc\\nvhigh,med,5more,more,big,med,acc\\nvhigh,med,5more,more,big,high,acc\\nvhigh,low,2,2,small,low,unacc\\nvhigh,low,2,2,small,med,unacc\\nvhigh,low,2,2,small,high,unacc\\nvhigh,low,2,2,med,low,unacc\\nvhigh,low,2,2,med,med,unacc\\nvhigh,low,2,2,med,high,unacc\\nvhigh,low,2,2,big,low,unacc\\nvhigh,low,2,2,big,med,unacc\\nvhigh,low,2,2,big,high,unacc\\nvhigh,low,2,4,small,low,unacc\\nvhigh,low,2,4,small,med,unacc\\nvhigh,low,2,4,small,high,acc\\nvhigh,low,2,4,med,low,unacc\\nvhigh,low,2,4,med,med,unacc\\nvhigh,low,2,4,med,high,acc\\nvhigh,low,2,4,big,low,unacc\\nvhigh,low,2,4,big,med,acc\\nvhigh,low,2,4,big,high,acc\\nvhigh,low,2,more,small,low,unacc\\nvhigh,low,2,more,small,med,unacc\\nvhigh,low,2,more,small,high,unacc\\nvhigh,low,2,more,med,low,unacc\\nvhigh,low,2,more,med,med,unacc\\nvhigh,low,2,more,med,high,acc\\nvhigh,low,2,more,big,low,unacc\\nvhigh,low,2,more,big,med,acc\\nvhigh,low,2,more,big,high,acc\\nvhigh,low,3,2,small,low,unacc\\nvhigh,low,3,2,small,med,unacc\\nvhigh,low,3,2,small,high,unacc\\nvhigh,low,3,2,med,low,unacc\\nvhigh,low,3,2,med,med,unacc\\nvhigh,low,3,2,med,high,unacc\\nvhigh,low,3,2,big,low,unacc\\nvhigh,low,3,2,big,med,unacc\\nvhigh,low,3,2,big,high,unacc\\nvhigh,low,3,4,small,low,unacc\\nvhigh,low,3,4,small,med,unacc\\nvhigh,low,3,4,small,high,acc\\nvhigh,low,3,4,med,low,unacc\\nvhigh,low,3,4,med,med,unacc\\nvhigh,low,3,4,med,high,acc\\nvhigh,low,3,4,big,low,unacc\\nvhigh,low,3,4,big,med,acc\\nvhigh,low,3,4,big,high,acc\\nvhigh,low,3,more,small,low,unacc\\nvhigh,low,3,more,small,med,unacc\\nvhigh,low,3,more,small,high,acc\\nvhigh,low,3,more,med,low,unacc\\nvhigh,low,3,more,med,med,acc\\nvhigh,low,3,more,med,high,acc\\nvhigh,low,3,more,big,low,unacc\\nvhigh,low,3,more,big,med,acc\\nvhigh,low,3,more,big,high,acc\\nvhigh,low,4,2,small,low,unacc\\nvhigh,low,4,2,small,med,unacc\\nvhigh,low,4,2,small,high,unacc\\nvhigh,low,4,2,med,low,unacc\\nvhigh,low,4,2,med,med,unacc\\nvhigh,low,4,2,med,high,unacc\\nvhigh,low,4,2,big,low,unacc\\nvhigh,low,4,2,big,med,unacc\\nvhigh,low,4,2,big,high,unacc\\nvhigh,low,4,4,small,low,unacc\\nvhigh,low,4,4,small,med,unacc\\nvhigh,low,4,4,small,high,acc\\nvhigh,low,4,4,med,low,unacc\\nvhigh,low,4,4,med,med,acc\\nvhigh,low,4,4,med,high,acc\\nvhigh,low,4,4,big,low,unacc\\nvhigh,low,4,4,big,med,acc\\nvhigh,low,4,4,big,high,acc\\nvhigh,low,4,more,small,low,unacc\\nvhigh,low,4,more,small,med,unacc\\nvhigh,low,4,more,small,high,acc\\nvhigh,low,4,more,med,low,unacc\\nvhigh,low,4,more,med,med,acc\\nvhigh,low,4,more,med,high,acc\\nvhigh,low,4,more,big,low,unacc\\nvhigh,low,4,more,big,med,acc\\nvhigh,low,4,more,big,high,acc\\nvhigh,low,5more,2,small,low,unacc\\nvhigh,low,5more,2,small,med,unacc\\nvhigh,low,5more,2,small,high,unacc\\nvhigh,low,5more,2,med,low,unacc\\nvhigh,low,5more,2,med,med,unacc\\nvhigh,low,5more,2,med,high,unacc\\nvhigh,low,5more,2,big,low,unacc\\nvhigh,low,5more,2,big,med,unacc\\nvhigh,low,5more,2,big,high,unacc\\nvhigh,low,5more,4,small,low,unacc\\nvhigh,low,5more,4,small,med,unacc\\nvhigh,low,5more,4,small,high,acc\\nvhigh,low,5more,4,med,low,unacc\\nvhigh,low,5more,4,med,med,acc\\nvhigh,low,5more,4,med,high,acc\\nvhigh,low,5more,4,big,low,unacc\\nvhigh,low,5more,4,big,med,acc\\nvhigh,low,5more,4,big,high,acc\\nvhigh,low,5more,more,small,low,unacc\\nvhigh,low,5more,more,small,med,unacc\\nvhigh,low,5more,more,small,high,acc\\nvhigh,low,5more,more,med,low,unacc\\nvhigh,low,5more,more,med,med,acc\\nvhigh,low,5more,more,med,high,acc\\nvhigh,low,5more,more,big,low,unacc\\nvhigh,low,5more,more,big,med,acc\\nvhigh,low,5more,more,big,high,acc\\nhigh,vhigh,2,2,small,low,unacc\\nhigh,vhigh,2,2,small,med,unacc\\nhigh,vhigh,2,2,small,high,unacc\\nhigh,vhigh,2,2,med,low,unacc\\nhigh,vhigh,2,2,med,med,unacc\\nhigh,vhigh,2,2,med,high,unacc\\nhigh,vhigh,2,2,big,low,unacc\\nhigh,vhigh,2,2,big,med,unacc\\nhigh,vhigh,2,2,big,high,unacc\\nhigh,vhigh,2,4,small,low,unacc\\nhigh,vhigh,2,4,small,med,unacc\\nhigh,vhigh,2,4,small,high,unacc\\nhigh,vhigh,2,4,med,low,unacc\\nhigh,vhigh,2,4,med,med,unacc\\nhigh,vhigh,2,4,med,high,unacc\\nhigh,vhigh,2,4,big,low,unacc\\nhigh,vhigh,2,4,big,med,unacc\\nhigh,vhigh,2,4,big,high,unacc\\nhigh,vhigh,2,more,small,low,unacc\\nhigh,vhigh,2,more,small,med,unacc\\nhigh,vhigh,2,more,small,high,unacc\\nhigh,vhigh,2,more,med,low,unacc\\nhigh,vhigh,2,more,med,med,unacc\\nhigh,vhigh,2,more,med,high,unacc\\nhigh,vhigh,2,more,big,low,unacc\\nhigh,vhigh,2,more,big,med,unacc\\nhigh,vhigh,2,more,big,high,unacc\\nhigh,vhigh,3,2,small,low,unacc\\nhigh,vhigh,3,2,small,med,unacc\\nhigh,vhigh,3,2,small,high,unacc\\nhigh,vhigh,3,2,med,low,unacc\\nhigh,vhigh,3,2,med,med,unacc\\nhigh,vhigh,3,2,med,high,unacc\\nhigh,vhigh,3,2,big,low,unacc\\nhigh,vhigh,3,2,big,med,unacc\\nhigh,vhigh,3,2,big,high,unacc\\nhigh,vhigh,3,4,small,low,unacc\\nhigh,vhigh,3,4,small,med,unacc\\nhigh,vhigh,3,4,small,high,unacc\\nhigh,vhigh,3,4,med,low,unacc\\nhigh,vhigh,3,4,med,med,unacc\\nhigh,vhigh,3,4,med,high,unacc\\nhigh,vhigh,3,4,big,low,unacc\\nhigh,vhigh,3,4,big,med,unacc\\nhigh,vhigh,3,4,big,high,unacc\\nhigh,vhigh,3,more,small,low,unacc\\nhigh,vhigh,3,more,small,med,unacc\\nhigh,vhigh,3,more,small,high,unacc\\nhigh,vhigh,3,more,med,low,unacc\\nhigh,vhigh,3,more,med,med,unacc\\nhigh,vhigh,3,more,med,high,unacc\\nhigh,vhigh,3,more,big,low,unacc\\nhigh,vhigh,3,more,big,med,unacc\\nhigh,vhigh,3,more,big,high,unacc\\nhigh,vhigh,4,2,small,low,unacc\\nhigh,vhigh,4,2,small,med,unacc\\nhigh,vhigh,4,2,small,high,unacc\\nhigh,vhigh,4,2,med,low,unacc\\nhigh,vhigh,4,2,med,med,unacc\\nhigh,vhigh,4,2,med,high,unacc\\nhigh,vhigh,4,2,big,low,unacc\\nhigh,vhigh,4,2,big,med,unacc\\nhigh,vhigh,4,2,big,high,unacc\\nhigh,vhigh,4,4,small,low,unacc\\nhigh,vhigh,4,4,small,med,unacc\\nhigh,vhigh,4,4,small,high,unacc\\nhigh,vhigh,4,4,med,low,unacc\\nhigh,vhigh,4,4,med,med,unacc\\nhigh,vhigh,4,4,med,high,unacc\\nhigh,vhigh,4,4,big,low,unacc\\nhigh,vhigh,4,4,big,med,unacc\\nhigh,vhigh,4,4,big,high,unacc\\nhigh,vhigh,4,more,small,low,unacc\\nhigh,vhigh,4,more,small,med,unacc\\nhigh,vhigh,4,more,small,high,unacc\\nhigh,vhigh,4,more,med,low,unacc\\nhigh,vhigh,4,more,med,med,unacc\\nhigh,vhigh,4,more,med,high,unacc\\nhigh,vhigh,4,more,big,low,unacc\\nhigh,vhigh,4,more,big,med,unacc\\nhigh,vhigh,4,more,big,high,unacc\\nhigh,vhigh,5more,2,small,low,unacc\\nhigh,vhigh,5more,2,small,med,unacc\\nhigh,vhigh,5more,2,small,high,unacc\\nhigh,vhigh,5more,2,med,low,unacc\\nhigh,vhigh,5more,2,med,med,unacc\\nhigh,vhigh,5more,2,med,high,unacc\\nhigh,vhigh,5more,2,big,low,unacc\\nhigh,vhigh,5more,2,big,med,unacc\\nhigh,vhigh,5more,2,big,high,unacc\\nhigh,vhigh,5more,4,small,low,unacc\\nhigh,vhigh,5more,4,small,med,unacc\\nhigh,vhigh,5more,4,small,high,unacc\\nhigh,vhigh,5more,4,med,low,unacc\\nhigh,vhigh,5more,4,med,med,unacc\\nhigh,vhigh,5more,4,med,high,unacc\\nhigh,vhigh,5more,4,big,low,unacc\\nhigh,vhigh,5more,4,big,med,unacc\\nhigh,vhigh,5more,4,big,high,unacc\\nhigh,vhigh,5more,more,small,low,unacc\\nhigh,vhigh,5more,more,small,med,unacc\\nhigh,vhigh,5more,more,small,high,unacc\\nhigh,vhigh,5more,more,med,low,unacc\\nhigh,vhigh,5more,more,med,med,unacc\\nhigh,vhigh,5more,more,med,high,unacc\\nhigh,vhigh,5more,more,big,low,unacc\\nhigh,vhigh,5more,more,big,med,unacc\\nhigh,vhigh,5more,more,big,high,unacc\\nhigh,high,2,2,small,low,unacc\\nhigh,high,2,2,small,med,unacc\\nhigh,high,2,2,small,high,unacc\\nhigh,high,2,2,med,low,unacc\\nhigh,high,2,2,med,med,unacc\\nhigh,high,2,2,med,high,unacc\\nhigh,high,2,2,big,low,unacc\\nhigh,high,2,2,big,med,unacc\\nhigh,high,2,2,big,high,unacc\\nhigh,high,2,4,small,low,unacc\\nhigh,high,2,4,small,med,unacc\\nhigh,high,2,4,small,high,acc\\nhigh,high,2,4,med,low,unacc\\nhigh,high,2,4,med,med,unacc\\nhigh,high,2,4,med,high,acc\\nhigh,high,2,4,big,low,unacc\\nhigh,high,2,4,big,med,acc\\nhigh,high,2,4,big,high,acc\\nhigh,high,2,more,small,low,unacc\\nhigh,high,2,more,small,med,unacc\\nhigh,high,2,more,small,high,unacc\\nhigh,high,2,more,med,low,unacc\\nhigh,high,2,more,med,med,unacc\\nhigh,high,2,more,med,high,acc\\nhigh,high,2,more,big,low,unacc\\nhigh,high,2,more,big,med,acc\\nhigh,high,2,more,big,high,acc\\nhigh,high,3,2,small,low,unacc\\nhigh,high,3,2,small,med,unacc\\nhigh,high,3,2,small,high,unacc\\nhigh,high,3,2,med,low,unacc\\nhigh,high,3,2,med,med,unacc\\nhigh,high,3,2,med,high,unacc\\nhigh,high,3,2,big,low,unacc\\nhigh,high,3,2,big,med,unacc\\nhigh,high,3,2,big,high,unacc\\nhigh,high,3,4,small,low,unacc\\nhigh,high,3,4,small,med,unacc\\nhigh,high,3,4,small,high,acc\\nhigh,high,3,4,med,low,unacc\\nhigh,high,3,4,med,med,unacc\\nhigh,high,3,4,med,high,acc\\nhigh,high,3,4,big,low,unacc\\nhigh,high,3,4,big,med,acc\\nhigh,high,3,4,big,high,acc\\nhigh,high,3,more,small,low,unacc\\nhigh,high,3,more,small,med,unacc\\nhigh,high,3,more,small,high,acc\\nhigh,high,3,more,med,low,unacc\\nhigh,high,3,more,med,med,acc\\nhigh,high,3,more,med,high,acc\\nhigh,high,3,more,big,low,unacc\\nhigh,high,3,more,big,med,acc\\nhigh,high,3,more,big,high,acc\\nhigh,high,4,2,small,low,unacc\\nhigh,high,4,2,small,med,unacc\\nhigh,high,4,2,small,high,unacc\\nhigh,high,4,2,med,low,unacc\\nhigh,high,4,2,med,med,unacc\\nhigh,high,4,2,med,high,unacc\\nhigh,high,4,2,big,low,unacc\\nhigh,high,4,2,big,med,unacc\\nhigh,high,4,2,big,high,unacc\\nhigh,high,4,4,small,low,unacc\\nhigh,high,4,4,small,med,unacc\\nhigh,high,4,4,small,high,acc\\nhigh,high,4,4,med,low,unacc\\nhigh,high,4,4,med,med,acc\\nhigh,high,4,4,med,high,acc\\nhigh,high,4,4,big,low,unacc\\nhigh,high,4,4,big,med,acc\\nhigh,high,4,4,big,high,acc\\nhigh,high,4,more,small,low,unacc\\nhigh,high,4,more,small,med,unacc\\nhigh,high,4,more,small,high,acc\\nhigh,high,4,more,med,low,unacc\\nhigh,high,4,more,med,med,acc\\nhigh,high,4,more,med,high,acc\\nhigh,high,4,more,big,low,unacc\\nhigh,high,4,more,big,med,acc\\nhigh,high,4,more,big,high,acc\\nhigh,high,5more,2,small,low,unacc\\nhigh,high,5more,2,small,med,unacc\\nhigh,high,5more,2,small,high,unacc\\nhigh,high,5more,2,med,low,unacc\\nhigh,high,5more,2,med,med,unacc\\nhigh,high,5more,2,med,high,unacc\\nhigh,high,5more,2,big,low,unacc\\nhigh,high,5more,2,big,med,unacc\\nhigh,high,5more,2,big,high,unacc\\nhigh,high,5more,4,small,low,unacc\\nhigh,high,5more,4,small,med,unacc\\nhigh,high,5more,4,small,high,acc\\nhigh,high,5more,4,med,low,unacc\\nhigh,high,5more,4,med,med,acc\\nhigh,high,5more,4,med,high,acc\\nhigh,high,5more,4,big,low,unacc\\nhigh,high,5more,4,big,med,acc\\nhigh,high,5more,4,big,high,acc\\nhigh,high,5more,more,small,low,unacc\\nhigh,high,5more,more,small,med,unacc\\nhigh,high,5more,more,small,high,acc\\nhigh,high,5more,more,med,low,unacc\\nhigh,high,5more,more,med,med,acc\\nhigh,high,5more,more,med,high,acc\\nhigh,high,5more,more,big,low,unacc\\nhigh,high,5more,more,big,med,acc\\nhigh,high,5more,more,big,high,acc\\nhigh,med,2,2,small,low,unacc\\nhigh,med,2,2,small,med,unacc\\nhigh,med,2,2,small,high,unacc\\nhigh,med,2,2,med,low,unacc\\nhigh,med,2,2,med,med,unacc\\nhigh,med,2,2,med,high,unacc\\nhigh,med,2,2,big,low,unacc\\nhigh,med,2,2,big,med,unacc\\nhigh,med,2,2,big,high,unacc\\nhigh,med,2,4,small,low,unacc\\nhigh,med,2,4,small,med,unacc\\nhigh,med,2,4,small,high,acc\\nhigh,med,2,4,med,low,unacc\\nhigh,med,2,4,med,med,unacc\\nhigh,med,2,4,med,high,acc\\nhigh,med,2,4,big,low,unacc\\nhigh,med,2,4,big,med,acc\\nhigh,med,2,4,big,high,acc\\nhigh,med,2,more,small,low,unacc\\nhigh,med,2,more,small,med,unacc\\nhigh,med,2,more,small,high,unacc\\nhigh,med,2,more,med,low,unacc\\nhigh,med,2,more,med,med,unacc\\nhigh,med,2,more,med,high,acc\\nhigh,med,2,more,big,low,unacc\\nhigh,med,2,more,big,med,acc\\nhigh,med,2,more,big,high,acc\\nhigh,med,3,2,small,low,unacc\\nhigh,med,3,2,small,med,unacc\\nhigh,med,3,2,small,high,unacc\\nhigh,med,3,2,med,low,unacc\\nhigh,med,3,2,med,med,unacc\\nhigh,med,3,2,med,high,unacc\\nhigh,med,3,2,big,low,unacc\\nhigh,med,3,2,big,med,unacc\\nhigh,med,3,2,big,high,unacc\\nhigh,med,3,4,small,low,unacc\\nhigh,med,3,4,small,med,unacc\\nhigh,med,3,4,small,high,acc\\nhigh,med,3,4,med,low,unacc\\nhigh,med,3,4,med,med,unacc\\nhigh,med,3,4,med,high,acc\\nhigh,med,3,4,big,low,unacc\\nhigh,med,3,4,big,med,acc\\nhigh,med,3,4,big,high,acc\\nhigh,med,3,more,small,low,unacc\\nhigh,med,3,more,small,med,unacc\\nhigh,med,3,more,small,high,acc\\nhigh,med,3,more,med,low,unacc\\nhigh,med,3,more,med,med,acc\\nhigh,med,3,more,med,high,acc\\nhigh,med,3,more,big,low,unacc\\nhigh,med,3,more,big,med,acc\\nhigh,med,3,more,big,high,acc\\nhigh,med,4,2,small,low,unacc\\nhigh,med,4,2,small,med,unacc\\nhigh,med,4,2,small,high,unacc\\nhigh,med,4,2,med,low,unacc\\nhigh,med,4,2,med,med,unacc\\nhigh,med,4,2,med,high,unacc\\nhigh,med,4,2,big,low,unacc\\nhigh,med,4,2,big,med,unacc\\nhigh,med,4,2,big,high,unacc\\nhigh,med,4,4,small,low,unacc\\nhigh,med,4,4,small,med,unacc\\nhigh,med,4,4,small,high,acc\\nhigh,med,4,4,med,low,unacc\\nhigh,med,4,4,med,med,acc\\nhigh,med,4,4,med,high,acc\\nhigh,med,4,4,big,low,unacc\\nhigh,med,4,4,big,med,acc\\nhigh,med,4,4,big,high,acc\\nhigh,med,4,more,small,low,unacc\\nhigh,med,4,more,small,med,unacc\\nhigh,med,4,more,small,high,acc\\nhigh,med,4,more,med,low,unacc\\nhigh,med,4,more,med,med,acc\\nhigh,med,4,more,med,high,acc\\nhigh,med,4,more,big,low,unacc\\nhigh,med,4,more,big,med,acc\\nhigh,med,4,more,big,high,acc\\nhigh,med,5more,2,small,low,unacc\\nhigh,med,5more,2,small,med,unacc\\nhigh,med,5more,2,small,high,unacc\\nhigh,med,5more,2,med,low,unacc\\nhigh,med,5more,2,med,med,unacc\\nhigh,med,5more,2,med,high,unacc\\nhigh,med,5more,2,big,low,unacc\\nhigh,med,5more,2,big,med,unacc\\nhigh,med,5more,2,big,high,unacc\\nhigh,med,5more,4,small,low,unacc\\nhigh,med,5more,4,small,med,unacc\\nhigh,med,5more,4,small,high,acc\\nhigh,med,5more,4,med,low,unacc\\nhigh,med,5more,4,med,med,acc\\nhigh,med,5more,4,med,high,acc\\nhigh,med,5more,4,big,low,unacc\\nhigh,med,5more,4,big,med,acc\\nhigh,med,5more,4,big,high,acc\\nhigh,med,5more,more,small,low,unacc\\nhigh,med,5more,more,small,med,unacc\\nhigh,med,5more,more,small,high,acc\\nhigh,med,5more,more,med,low,unacc\\nhigh,med,5more,more,med,med,acc\\nhigh,med,5more,more,med,high,acc\\nhigh,med,5more,more,big,low,unacc\\nhigh,med,5more,more,big,med,acc\\nhigh,med,5more,more,big,high,acc\\nhigh,low,2,2,small,low,unacc\\nhigh,low,2,2,small,med,unacc\\nhigh,low,2,2,small,high,unacc\\nhigh,low,2,2,med,low,unacc\\nhigh,low,2,2,med,med,unacc\\nhigh,low,2,2,med,high,unacc\\nhigh,low,2,2,big,low,unacc\\nhigh,low,2,2,big,med,unacc\\nhigh,low,2,2,big,high,unacc\\nhigh,low,2,4,small,low,unacc\\nhigh,low,2,4,small,med,unacc\\nhigh,low,2,4,small,high,acc\\nhigh,low,2,4,med,low,unacc\\nhigh,low,2,4,med,med,unacc\\nhigh,low,2,4,med,high,acc\\nhigh,low,2,4,big,low,unacc\\nhigh,low,2,4,big,med,acc\\nhigh,low,2,4,big,high,acc\\nhigh,low,2,more,small,low,unacc\\nhigh,low,2,more,small,med,unacc\\nhigh,low,2,more,small,high,unacc\\nhigh,low,2,more,med,low,unacc\\nhigh,low,2,more,med,med,unacc\\nhigh,low,2,more,med,high,acc\\nhigh,low,2,more,big,low,unacc\\nhigh,low,2,more,big,med,acc\\nhigh,low,2,more,big,high,acc\\nhigh,low,3,2,small,low,unacc\\nhigh,low,3,2,small,med,unacc\\nhigh,low,3,2,small,high,unacc\\nhigh,low,3,2,med,low,unacc\\nhigh,low,3,2,med,med,unacc\\nhigh,low,3,2,med,high,unacc\\nhigh,low,3,2,big,low,unacc\\nhigh,low,3,2,big,med,unacc\\nhigh,low,3,2,big,high,unacc\\nhigh,low,3,4,small,low,unacc\\nhigh,low,3,4,small,med,unacc\\nhigh,low,3,4,small,high,acc\\nhigh,low,3,4,med,low,unacc\\nhigh,low,3,4,med,med,unacc\\nhigh,low,3,4,med,high,acc\\nhigh,low,3,4,big,low,unacc\\nhigh,low,3,4,big,med,acc\\nhigh,low,3,4,big,high,acc\\nhigh,low,3,more,small,low,unacc\\nhigh,low,3,more,small,med,unacc\\nhigh,low,3,more,small,high,acc\\nhigh,low,3,more,med,low,unacc\\nhigh,low,3,more,med,med,acc\\nhigh,low,3,more,med,high,acc\\nhigh,low,3,more,big,low,unacc\\nhigh,low,3,more,big,med,acc\\nhigh,low,3,more,big,high,acc\\nhigh,low,4,2,small,low,unacc\\nhigh,low,4,2,small,med,unacc\\nhigh,low,4,2,small,high,unacc\\nhigh,low,4,2,med,low,unacc\\nhigh,low,4,2,med,med,unacc\\nhigh,low,4,2,med,high,unacc\\nhigh,low,4,2,big,low,unacc\\nhigh,low,4,2,big,med,unacc\\nhigh,low,4,2,big,high,unacc\\nhigh,low,4,4,small,low,unacc\\nhigh,low,4,4,small,med,unacc\\nhigh,low,4,4,small,high,acc\\nhigh,low,4,4,med,low,unacc\\nhigh,low,4,4,med,med,acc\\nhigh,low,4,4,med,high,acc\\nhigh,low,4,4,big,low,unacc\\nhigh,low,4,4,big,med,acc\\nhigh,low,4,4,big,high,acc\\nhigh,low,4,more,small,low,unacc\\nhigh,low,4,more,small,med,unacc\\nhigh,low,4,more,small,high,acc\\nhigh,low,4,more,med,low,unacc\\nhigh,low,4,more,med,med,acc\\nhigh,low,4,more,med,high,acc\\nhigh,low,4,more,big,low,unacc\\nhigh,low,4,more,big,med,acc\\nhigh,low,4,more,big,high,acc\\nhigh,low,5more,2,small,low,unacc\\nhigh,low,5more,2,small,med,unacc\\nhigh,low,5more,2,small,high,unacc\\nhigh,low,5more,2,med,low,unacc\\nhigh,low,5more,2,med,med,unacc\\nhigh,low,5more,2,med,high,unacc\\nhigh,low,5more,2,big,low,unacc\\nhigh,low,5more,2,big,med,unacc\\nhigh,low,5more,2,big,high,unacc\\nhigh,low,5more,4,small,low,unacc\\nhigh,low,5more,4,small,med,unacc\\nhigh,low,5more,4,small,high,acc\\nhigh,low,5more,4,med,low,unacc\\nhigh,low,5more,4,med,med,acc\\nhigh,low,5more,4,med,high,acc\\nhigh,low,5more,4,big,low,unacc\\nhigh,low,5more,4,big,med,acc\\nhigh,low,5more,4,big,high,acc\\nhigh,low,5more,more,small,low,unacc\\nhigh,low,5more,more,small,med,unacc\\nhigh,low,5more,more,small,high,acc\\nhigh,low,5more,more,med,low,unacc\\nhigh,low,5more,more,med,med,acc\\nhigh,low,5more,more,med,high,acc\\nhigh,low,5more,more,big,low,unacc\\nhigh,low,5more,more,big,med,acc\\nhigh,low,5more,more,big,high,acc\\nmed,vhigh,2,2,small,low,unacc\\nmed,vhigh,2,2,small,med,unacc\\nmed,vhigh,2,2,small,high,unacc\\nmed,vhigh,2,2,med,low,unacc\\nmed,vhigh,2,2,med,med,unacc\\nmed,vhigh,2,2,med,high,unacc\\nmed,vhigh,2,2,big,low,unacc\\nmed,vhigh,2,2,big,med,unacc\\nmed,vhigh,2,2,big,high,unacc\\nmed,vhigh,2,4,small,low,unacc\\nmed,vhigh,2,4,small,med,unacc\\nmed,vhigh,2,4,small,high,acc\\nmed,vhigh,2,4,med,low,unacc\\nmed,vhigh,2,4,med,med,unacc\\nmed,vhigh,2,4,med,high,acc\\nmed,vhigh,2,4,big,low,unacc\\nmed,vhigh,2,4,big,med,acc\\nmed,vhigh,2,4,big,high,acc\\nmed,vhigh,2,more,small,low,unacc\\nmed,vhigh,2,more,small,med,unacc\\nmed,vhigh,2,more,small,high,unacc\\nmed,vhigh,2,more,med,low,unacc\\nmed,vhigh,2,more,med,med,unacc\\nmed,vhigh,2,more,med,high,acc\\nmed,vhigh,2,more,big,low,unacc\\nmed,vhigh,2,more,big,med,acc\\nmed,vhigh,2,more,big,high,acc\\nmed,vhigh,3,2,small,low,unacc\\nmed,vhigh,3,2,small,med,unacc\\nmed,vhigh,3,2,small,high,unacc\\nmed,vhigh,3,2,med,low,unacc\\nmed,vhigh,3,2,med,med,unacc\\nmed,vhigh,3,2,med,high,unacc\\nmed,vhigh,3,2,big,low,unacc\\nmed,vhigh,3,2,big,med,unacc\\nmed,vhigh,3,2,big,high,unacc\\nmed,vhigh,3,4,small,low,unacc\\nmed,vhigh,3,4,small,med,unacc\\nmed,vhigh,3,4,small,high,acc\\nmed,vhigh,3,4,med,low,unacc\\nmed,vhigh,3,4,med,med,unacc\\nmed,vhigh,3,4,med,high,acc\\nmed,vhigh,3,4,big,low,unacc\\nmed,vhigh,3,4,big,med,acc\\nmed,vhigh,3,4,big,high,acc\\nmed,vhigh,3,more,small,low,unacc\\nmed,vhigh,3,more,small,med,unacc\\nmed,vhigh,3,more,small,high,acc\\nmed,vhigh,3,more,med,low,unacc\\nmed,vhigh,3,more,med,med,acc\\nmed,vhigh,3,more,med,high,acc\\nmed,vhigh,3,more,big,low,unacc\\nmed,vhigh,3,more,big,med,acc\\nmed,vhigh,3,more,big,high,acc\\nmed,vhigh,4,2,small,low,unacc\\nmed,vhigh,4,2,small,med,unacc\\nmed,vhigh,4,2,small,high,unacc\\nmed,vhigh,4,2,med,low,unacc\\nmed,vhigh,4,2,med,med,unacc\\nmed,vhigh,4,2,med,high,unacc\\nmed,vhigh,4,2,big,low,unacc\\nmed,vhigh,4,2,big,med,unacc\\nmed,vhigh,4,2,big,high,unacc\\nmed,vhigh,4,4,small,low,unacc\\nmed,vhigh,4,4,small,med,unacc\\nmed,vhigh,4,4,small,high,acc\\nmed,vhigh,4,4,med,low,unacc\\nmed,vhigh,4,4,med,med,acc\\nmed,vhigh,4,4,med,high,acc\\nmed,vhigh,4,4,big,low,unacc\\nmed,vhigh,4,4,big,med,acc\\nmed,vhigh,4,4,big,high,acc\\nmed,vhigh,4,more,small,low,unacc\\nmed,vhigh,4,more,small,med,unacc\\nmed,vhigh,4,more,small,high,acc\\nmed,vhigh,4,more,med,low,unacc\\nmed,vhigh,4,more,med,med,acc\\nmed,vhigh,4,more,med,high,acc\\nmed,vhigh,4,more,big,low,unacc\\nmed,vhigh,4,more,big,med,acc\\nmed,vhigh,4,more,big,high,acc\\nmed,vhigh,5more,2,small,low,unacc\\nmed,vhigh,5more,2,small,med,unacc\\nmed,vhigh,5more,2,small,high,unacc\\nmed,vhigh,5more,2,med,low,unacc\\nmed,vhigh,5more,2,med,med,unacc\\nmed,vhigh,5more,2,med,high,unacc\\nmed,vhigh,5more,2,big,low,unacc\\nmed,vhigh,5more,2,big,med,unacc\\nmed,vhigh,5more,2,big,high,unacc\\nmed,vhigh,5more,4,small,low,unacc\\nmed,vhigh,5more,4,small,med,unacc\\nmed,vhigh,5more,4,small,high,acc\\nmed,vhigh,5more,4,med,low,unacc\\nmed,vhigh,5more,4,med,med,acc\\nmed,vhigh,5more,4,med,high,acc\\nmed,vhigh,5more,4,big,low,unacc\\nmed,vhigh,5more,4,big,med,acc\\nmed,vhigh,5more,4,big,high,acc\\nmed,vhigh,5more,more,small,low,unacc\\nmed,vhigh,5more,more,small,med,unacc\\nmed,vhigh,5more,more,small,high,acc\\nmed,vhigh,5more,more,med,low,unacc\\nmed,vhigh,5more,more,med,med,acc\\nmed,vhigh,5more,more,med,high,acc\\nmed,vhigh,5more,more,big,low,unacc\\nmed,vhigh,5more,more,big,med,acc\\nmed,vhigh,5more,more,big,high,acc\\nmed,high,2,2,small,low,unacc\\nmed,high,2,2,small,med,unacc\\nmed,high,2,2,small,high,unacc\\nmed,high,2,2,med,low,unacc\\nmed,high,2,2,med,med,unacc\\nmed,high,2,2,med,high,unacc\\nmed,high,2,2,big,low,unacc\\nmed,high,2,2,big,med,unacc\\nmed,high,2,2,big,high,unacc\\nmed,high,2,4,small,low,unacc\\nmed,high,2,4,small,med,unacc\\nmed,high,2,4,small,high,acc\\nmed,high,2,4,med,low,unacc\\nmed,high,2,4,med,med,unacc\\nmed,high,2,4,med,high,acc\\nmed,high,2,4,big,low,unacc\\nmed,high,2,4,big,med,acc\\nmed,high,2,4,big,high,acc\\nmed,high,2,more,small,low,unacc\\nmed,high,2,more,small,med,unacc\\nmed,high,2,more,small,high,unacc\\nmed,high,2,more,med,low,unacc\\nmed,high,2,more,med,med,unacc\\nmed,high,2,more,med,high,acc\\nmed,high,2,more,big,low,unacc\\nmed,high,2,more,big,med,acc\\nmed,high,2,more,big,high,acc\\nmed,high,3,2,small,low,unacc\\nmed,high,3,2,small,med,unacc\\nmed,high,3,2,small,high,unacc\\nmed,high,3,2,med,low,unacc\\nmed,high,3,2,med,med,unacc\\nmed,high,3,2,med,high,unacc\\nmed,high,3,2,big,low,unacc\\nmed,high,3,2,big,med,unacc\\nmed,high,3,2,big,high,unacc\\nmed,high,3,4,small,low,unacc\\nmed,high,3,4,small,med,unacc\\nmed,high,3,4,small,high,acc\\nmed,high,3,4,med,low,unacc\\nmed,high,3,4,med,med,unacc\\nmed,high,3,4,med,high,acc\\nmed,high,3,4,big,low,unacc\\nmed,high,3,4,big,med,acc\\nmed,high,3,4,big,high,acc\\nmed,high,3,more,small,low,unacc\\nmed,high,3,more,small,med,unacc\\nmed,high,3,more,small,high,acc\\nmed,high,3,more,med,low,unacc\\nmed,high,3,more,med,med,acc\\nmed,high,3,more,med,high,acc\\nmed,high,3,more,big,low,unacc\\nmed,high,3,more,big,med,acc\\nmed,high,3,more,big,high,acc\\nmed,high,4,2,small,low,unacc\\nmed,high,4,2,small,med,unacc\\nmed,high,4,2,small,high,unacc\\nmed,high,4,2,med,low,unacc\\nmed,high,4,2,med,med,unacc\\nmed,high,4,2,med,high,unacc\\nmed,high,4,2,big,low,unacc\\nmed,high,4,2,big,med,unacc\\nmed,high,4,2,big,high,unacc\\nmed,high,4,4,small,low,unacc\\nmed,high,4,4,small,med,unacc\\nmed,high,4,4,small,high,acc\\nmed,high,4,4,med,low,unacc\\nmed,high,4,4,med,med,acc\\nmed,high,4,4,med,high,acc\\nmed,high,4,4,big,low,unacc\\nmed,high,4,4,big,med,acc\\nmed,high,4,4,big,high,acc\\nmed,high,4,more,small,low,unacc\\nmed,high,4,more,small,med,unacc\\nmed,high,4,more,small,high,acc\\nmed,high,4,more,med,low,unacc\\nmed,high,4,more,med,med,acc\\nmed,high,4,more,med,high,acc\\nmed,high,4,more,big,low,unacc\\nmed,high,4,more,big,med,acc\\nmed,high,4,more,big,high,acc\\nmed,high,5more,2,small,low,unacc\\nmed,high,5more,2,small,med,unacc\\nmed,high,5more,2,small,high,unacc\\nmed,high,5more,2,med,low,unacc\\nmed,high,5more,2,med,med,unacc\\nmed,high,5more,2,med,high,unacc\\nmed,high,5more,2,big,low,unacc\\nmed,high,5more,2,big,med,unacc\\nmed,high,5more,2,big,high,unacc\\nmed,high,5more,4,small,low,unacc\\nmed,high,5more,4,small,med,unacc\\nmed,high,5more,4,small,high,acc\\nmed,high,5more,4,med,low,unacc\\nmed,high,5more,4,med,med,acc\\nmed,high,5more,4,med,high,acc\\nmed,high,5more,4,big,low,unacc\\nmed,high,5more,4,big,med,acc\\nmed,high,5more,4,big,high,acc\\nmed,high,5more,more,small,low,unacc\\nmed,high,5more,more,small,med,unacc\\nmed,high,5more,more,small,high,acc\\nmed,high,5more,more,med,low,unacc\\nmed,high,5more,more,med,med,acc\\nmed,high,5more,more,med,high,acc\\nmed,high,5more,more,big,low,unacc\\nmed,high,5more,more,big,med,acc\\nmed,high,5more,more,big,high,acc\\nmed,med,2,2,small,low,unacc\\nmed,med,2,2,small,med,unacc\\nmed,med,2,2,small,high,unacc\\nmed,med,2,2,med,low,unacc\\nmed,med,2,2,med,med,unacc\\nmed,med,2,2,med,high,unacc\\nmed,med,2,2,big,low,unacc\\nmed,med,2,2,big,med,unacc\\nmed,med,2,2,big,high,unacc\\nmed,med,2,4,small,low,unacc\\nmed,med,2,4,small,med,acc\\nmed,med,2,4,small,high,acc\\nmed,med,2,4,med,low,unacc\\nmed,med,2,4,med,med,acc\\nmed,med,2,4,med,high,acc\\nmed,med,2,4,big,low,unacc\\nmed,med,2,4,big,med,acc\\nmed,med,2,4,big,high,vgood\\nmed,med,2,more,small,low,unacc\\nmed,med,2,more,small,med,unacc\\nmed,med,2,more,small,high,unacc\\nmed,med,2,more,med,low,unacc\\nmed,med,2,more,med,med,acc\\nmed,med,2,more,med,high,acc\\nmed,med,2,more,big,low,unacc\\nmed,med,2,more,big,med,acc\\nmed,med,2,more,big,high,vgood\\nmed,med,3,2,small,low,unacc\\nmed,med,3,2,small,med,unacc\\nmed,med,3,2,small,high,unacc\\nmed,med,3,2,med,low,unacc\\nmed,med,3,2,med,med,unacc\\nmed,med,3,2,med,high,unacc\\nmed,med,3,2,big,low,unacc\\nmed,med,3,2,big,med,unacc\\nmed,med,3,2,big,high,unacc\\nmed,med,3,4,small,low,unacc\\nmed,med,3,4,small,med,acc\\nmed,med,3,4,small,high,acc\\nmed,med,3,4,med,low,unacc\\nmed,med,3,4,med,med,acc\\nmed,med,3,4,med,high,acc\\nmed,med,3,4,big,low,unacc\\nmed,med,3,4,big,med,acc\\nmed,med,3,4,big,high,vgood\\nmed,med,3,more,small,low,unacc\\nmed,med,3,more,small,med,acc\\nmed,med,3,more,small,high,acc\\nmed,med,3,more,med,low,unacc\\nmed,med,3,more,med,med,acc\\nmed,med,3,more,med,high,vgood\\nmed,med,3,more,big,low,unacc\\nmed,med,3,more,big,med,acc\\nmed,med,3,more,big,high,vgood\\nmed,med,4,2,small,low,unacc\\nmed,med,4,2,small,med,unacc\\nmed,med,4,2,small,high,unacc\\nmed,med,4,2,med,low,unacc\\nmed,med,4,2,med,med,unacc\\nmed,med,4,2,med,high,unacc\\nmed,med,4,2,big,low,unacc\\nmed,med,4,2,big,med,unacc\\nmed,med,4,2,big,high,unacc\\nmed,med,4,4,small,low,unacc\\nmed,med,4,4,small,med,acc\\nmed,med,4,4,small,high,acc\\nmed,med,4,4,med,low,unacc\\nmed,med,4,4,med,med,acc\\nmed,med,4,4,med,high,vgood\\nmed,med,4,4,big,low,unacc\\nmed,med,4,4,big,med,acc\\nmed,med,4,4,big,high,vgood\\nmed,med,4,more,small,low,unacc\\nmed,med,4,more,small,med,acc\\nmed,med,4,more,small,high,acc\\nmed,med,4,more,med,low,unacc\\nmed,med,4,more,med,med,acc\\nmed,med,4,more,med,high,vgood\\nmed,med,4,more,big,low,unacc\\nmed,med,4,more,big,med,acc\\nmed,med,4,more,big,high,vgood\\nmed,med,5more,2,small,low,unacc\\nmed,med,5more,2,small,med,unacc\\nmed,med,5more,2,small,high,unacc\\nmed,med,5more,2,med,low,unacc\\nmed,med,5more,2,med,med,unacc\\nmed,med,5more,2,med,high,unacc\\nmed,med,5more,2,big,low,unacc\\nmed,med,5more,2,big,med,unacc\\nmed,med,5more,2,big,high,unacc\\nmed,med,5more,4,small,low,unacc\\nmed,med,5more,4,small,med,acc\\nmed,med,5more,4,small,high,acc\\nmed,med,5more,4,med,low,unacc\\nmed,med,5more,4,med,med,acc\\nmed,med,5more,4,med,high,vgood\\nmed,med,5more,4,big,low,unacc\\nmed,med,5more,4,big,med,acc\\nmed,med,5more,4,big,high,vgood\\nmed,med,5more,more,small,low,unacc\\nmed,med,5more,more,small,med,acc\\nmed,med,5more,more,small,high,acc\\nmed,med,5more,more,med,low,unacc\\nmed,med,5more,more,med,med,acc\\nmed,med,5more,more,med,high,vgood\\nmed,med,5more,more,big,low,unacc\\nmed,med,5more,more,big,med,acc\\nmed,med,5more,more,big,high,vgood\\nmed,low,2,2,small,low,unacc\\nmed,low,2,2,small,med,unacc\\nmed,low,2,2,small,high,unacc\\nmed,low,2,2,med,low,unacc\\nmed,low,2,2,med,med,unacc\\nmed,low,2,2,med,high,unacc\\nmed,low,2,2,big,low,unacc\\nmed,low,2,2,big,med,unacc\\nmed,low,2,2,big,high,unacc\\nmed,low,2,4,small,low,unacc\\nmed,low,2,4,small,med,acc\\nmed,low,2,4,small,high,good\\nmed,low,2,4,med,low,unacc\\nmed,low,2,4,med,med,acc\\nmed,low,2,4,med,high,good\\nmed,low,2,4,big,low,unacc\\nmed,low,2,4,big,med,good\\nmed,low,2,4,big,high,vgood\\nmed,low,2,more,small,low,unacc\\nmed,low,2,more,small,med,unacc\\nmed,low,2,more,small,high,unacc\\nmed,low,2,more,med,low,unacc\\nmed,low,2,more,med,med,acc\\nmed,low,2,more,med,high,good\\nmed,low,2,more,big,low,unacc\\nmed,low,2,more,big,med,good\\nmed,low,2,more,big,high,vgood\\nmed,low,3,2,small,low,unacc\\nmed,low,3,2,small,med,unacc\\nmed,low,3,2,small,high,unacc\\nmed,low,3,2,med,low,unacc\\nmed,low,3,2,med,med,unacc\\nmed,low,3,2,med,high,unacc\\nmed,low,3,2,big,low,unacc\\nmed,low,3,2,big,med,unacc\\nmed,low,3,2,big,high,unacc\\nmed,low,3,4,small,low,unacc\\nmed,low,3,4,small,med,acc\\nmed,low,3,4,small,high,good\\nmed,low,3,4,med,low,unacc\\nmed,low,3,4,med,med,acc\\nmed,low,3,4,med,high,good\\nmed,low,3,4,big,low,unacc\\nmed,low,3,4,big,med,good\\nmed,low,3,4,big,high,vgood\\nmed,low,3,more,small,low,unacc\\nmed,low,3,more,small,med,acc\\nmed,low,3,more,small,high,good\\nmed,low,3,more,med,low,unacc\\nmed,low,3,more,med,med,good\\nmed,low,3,more,med,high,vgood\\nmed,low,3,more,big,low,unacc\\nmed,low,3,more,big,med,good\\nmed,low,3,more,big,high,vgood\\nmed,low,4,2,small,low,unacc\\nmed,low,4,2,small,med,unacc\\nmed,low,4,2,small,high,unacc\\nmed,low,4,2,med,low,unacc\\nmed,low,4,2,med,med,unacc\\nmed,low,4,2,med,high,unacc\\nmed,low,4,2,big,low,unacc\\nmed,low,4,2,big,med,unacc\\nmed,low,4,2,big,high,unacc\\nmed,low,4,4,small,low,unacc\\nmed,low,4,4,small,med,acc\\nmed,low,4,4,small,high,good\\nmed,low,4,4,med,low,unacc\\nmed,low,4,4,med,med,good\\nmed,low,4,4,med,high,vgood\\nmed,low,4,4,big,low,unacc\\nmed,low,4,4,big,med,good\\nmed,low,4,4,big,high,vgood\\nmed,low,4,more,small,low,unacc\\nmed,low,4,more,small,med,acc\\nmed,low,4,more,small,high,good\\nmed,low,4,more,med,low,unacc\\nmed,low,4,more,med,med,good\\nmed,low,4,more,med,high,vgood\\nmed,low,4,more,big,low,unacc\\nmed,low,4,more,big,med,good\\nmed,low,4,more,big,high,vgood\\nmed,low,5more,2,small,low,unacc\\nmed,low,5more,2,small,med,unacc\\nmed,low,5more,2,small,high,unacc\\nmed,low,5more,2,med,low,unacc\\nmed,low,5more,2,med,med,unacc\\nmed,low,5more,2,med,high,unacc\\nmed,low,5more,2,big,low,unacc\\nmed,low,5more,2,big,med,unacc\\nmed,low,5more,2,big,high,unacc\\nmed,low,5more,4,small,low,unacc\\nmed,low,5more,4,small,med,acc\\nmed,low,5more,4,small,high,good\\nmed,low,5more,4,med,low,unacc\\nmed,low,5more,4,med,med,good\\nmed,low,5more,4,med,high,vgood\\nmed,low,5more,4,big,low,unacc\\nmed,low,5more,4,big,med,good\\nmed,low,5more,4,big,high,vgood\\nmed,low,5more,more,small,low,unacc\\nmed,low,5more,more,small,med,acc\\nmed,low,5more,more,small,high,good\\nmed,low,5more,more,med,low,unacc\\nmed,low,5more,more,med,med,good\\nmed,low,5more,more,med,high,vgood\\nmed,low,5more,more,big,low,unacc\\nmed,low,5more,more,big,med,good\\nmed,low,5more,more,big,high,vgood\\nlow,vhigh,2,2,small,low,unacc\\nlow,vhigh,2,2,small,med,unacc\\nlow,vhigh,2,2,small,high,unacc\\nlow,vhigh,2,2,med,low,unacc\\nlow,vhigh,2,2,med,med,unacc\\nlow,vhigh,2,2,med,high,unacc\\nlow,vhigh,2,2,big,low,unacc\\nlow,vhigh,2,2,big,med,unacc\\nlow,vhigh,2,2,big,high,unacc\\nlow,vhigh,2,4,small,low,unacc\\nlow,vhigh,2,4,small,med,unacc\\nlow,vhigh,2,4,small,high,acc\\nlow,vhigh,2,4,med,low,unacc\\nlow,vhigh,2,4,med,med,unacc\\nlow,vhigh,2,4,med,high,acc\\nlow,vhigh,2,4,big,low,unacc\\nlow,vhigh,2,4,big,med,acc\\nlow,vhigh,2,4,big,high,acc\\nlow,vhigh,2,more,small,low,unacc\\nlow,vhigh,2,more,small,med,unacc\\nlow,vhigh,2,more,small,high,unacc\\nlow,vhigh,2,more,med,low,unacc\\nlow,vhigh,2,more,med,med,unacc\\nlow,vhigh,2,more,med,high,acc\\nlow,vhigh,2,more,big,low,unacc\\nlow,vhigh,2,more,big,med,acc\\nlow,vhigh,2,more,big,high,acc\\nlow,vhigh,3,2,small,low,unacc\\nlow,vhigh,3,2,small,med,unacc\\nlow,vhigh,3,2,small,high,unacc\\nlow,vhigh,3,2,med,low,unacc\\nlow,vhigh,3,2,med,med,unacc\\nlow,vhigh,3,2,med,high,unacc\\nlow,vhigh,3,2,big,low,unacc\\nlow,vhigh,3,2,big,med,unacc\\nlow,vhigh,3,2,big,high,unacc\\nlow,vhigh,3,4,small,low,unacc\\nlow,vhigh,3,4,small,med,unacc\\nlow,vhigh,3,4,small,high,acc\\nlow,vhigh,3,4,med,low,unacc\\nlow,vhigh,3,4,med,med,unacc\\nlow,vhigh,3,4,med,high,acc\\nlow,vhigh,3,4,big,low,unacc\\nlow,vhigh,3,4,big,med,acc\\nlow,vhigh,3,4,big,high,acc\\nlow,vhigh,3,more,small,low,unacc\\nlow,vhigh,3,more,small,med,unacc\\nlow,vhigh,3,more,small,high,acc\\nlow,vhigh,3,more,med,low,unacc\\nlow,vhigh,3,more,med,med,acc\\nlow,vhigh,3,more,med,high,acc\\nlow,vhigh,3,more,big,low,unacc\\nlow,vhigh,3,more,big,med,acc\\nlow,vhigh,3,more,big,high,acc\\nlow,vhigh,4,2,small,low,unacc\\nlow,vhigh,4,2,small,med,unacc\\nlow,vhigh,4,2,small,high,unacc\\nlow,vhigh,4,2,med,low,unacc\\nlow,vhigh,4,2,med,med,unacc\\nlow,vhigh,4,2,med,high,unacc\\nlow,vhigh,4,2,big,low,unacc\\nlow,vhigh,4,2,big,med,unacc\\nlow,vhigh,4,2,big,high,unacc\\nlow,vhigh,4,4,small,low,unacc\\nlow,vhigh,4,4,small,med,unacc\\nlow,vhigh,4,4,small,high,acc\\nlow,vhigh,4,4,med,low,unacc\\nlow,vhigh,4,4,med,med,acc\\nlow,vhigh,4,4,med,high,acc\\nlow,vhigh,4,4,big,low,unacc\\nlow,vhigh,4,4,big,med,acc\\nlow,vhigh,4,4,big,high,acc\\nlow,vhigh,4,more,small,low,unacc\\nlow,vhigh,4,more,small,med,unacc\\nlow,vhigh,4,more,small,high,acc\\nlow,vhigh,4,more,med,low,unacc\\nlow,vhigh,4,more,med,med,acc\\nlow,vhigh,4,more,med,high,acc\\nlow,vhigh,4,more,big,low,unacc\\nlow,vhigh,4,more,big,med,acc\\nlow,vhigh,4,more,big,high,acc\\nlow,vhigh,5more,2,small,low,unacc\\nlow,vhigh,5more,2,small,med,unacc\\nlow,vhigh,5more,2,small,high,unacc\\nlow,vhigh,5more,2,med,low,unacc\\nlow,vhigh,5more,2,med,med,unacc\\nlow,vhigh,5more,2,med,high,unacc\\nlow,vhigh,5more,2,big,low,unacc\\nlow,vhigh,5more,2,big,med,unacc\\nlow,vhigh,5more,2,big,high,unacc\\nlow,vhigh,5more,4,small,low,unacc\\nlow,vhigh,5more,4,small,med,unacc\\nlow,vhigh,5more,4,small,high,acc\\nlow,vhigh,5more,4,med,low,unacc\\nlow,vhigh,5more,4,med,med,acc\\nlow,vhigh,5more,4,med,high,acc\\nlow,vhigh,5more,4,big,low,unacc\\nlow,vhigh,5more,4,big,med,acc\\nlow,vhigh,5more,4,big,high,acc\\nlow,vhigh,5more,more,small,low,unacc\\nlow,vhigh,5more,more,small,med,unacc\\nlow,vhigh,5more,more,small,high,acc\\nlow,vhigh,5more,more,med,low,unacc\\nlow,vhigh,5more,more,med,med,acc\\nlow,vhigh,5more,more,med,high,acc\\nlow,vhigh,5more,more,big,low,unacc\\nlow,vhigh,5more,more,big,med,acc\\nlow,vhigh,5more,more,big,high,acc\\nlow,high,2,2,small,low,unacc\\nlow,high,2,2,small,med,unacc\\nlow,high,2,2,small,high,unacc\\nlow,high,2,2,med,low,unacc\\nlow,high,2,2,med,med,unacc\\nlow,high,2,2,med,high,unacc\\nlow,high,2,2,big,low,unacc\\nlow,high,2,2,big,med,unacc\\nlow,high,2,2,big,high,unacc\\nlow,high,2,4,small,low,unacc\\nlow,high,2,4,small,med,acc\\nlow,high,2,4,small,high,acc\\nlow,high,2,4,med,low,unacc\\nlow,high,2,4,med,med,acc\\nlow,high,2,4,med,high,acc\\nlow,high,2,4,big,low,unacc\\nlow,high,2,4,big,med,acc\\nlow,high,2,4,big,high,vgood\\nlow,high,2,more,small,low,unacc\\nlow,high,2,more,small,med,unacc\\nlow,high,2,more,small,high,unacc\\nlow,high,2,more,med,low,unacc\\nlow,high,2,more,med,med,acc\\nlow,high,2,more,med,high,acc\\nlow,high,2,more,big,low,unacc\\nlow,high,2,more,big,med,acc\\nlow,high,2,more,big,high,vgood\\nlow,high,3,2,small,low,unacc\\nlow,high,3,2,small,med,unacc\\nlow,high,3,2,small,high,unacc\\nlow,high,3,2,med,low,unacc\\nlow,high,3,2,med,med,unacc\\nlow,high,3,2,med,high,unacc\\nlow,high,3,2,big,low,unacc\\nlow,high,3,2,big,med,unacc\\nlow,high,3,2,big,high,unacc\\nlow,high,3,4,small,low,unacc\\nlow,high,3,4,small,med,acc\\nlow,high,3,4,small,high,acc\\nlow,high,3,4,med,low,unacc\\nlow,high,3,4,med,med,acc\\nlow,high,3,4,med,high,acc\\nlow,high,3,4,big,low,unacc\\nlow,high,3,4,big,med,acc\\nlow,high,3,4,big,high,vgood\\nlow,high,3,more,small,low,unacc\\nlow,high,3,more,small,med,acc\\nlow,high,3,more,small,high,acc\\nlow,high,3,more,med,low,unacc\\nlow,high,3,more,med,med,acc\\nlow,high,3,more,med,high,vgood\\nlow,high,3,more,big,low,unacc\\nlow,high,3,more,big,med,acc\\nlow,high,3,more,big,high,vgood\\nlow,high,4,2,small,low,unacc\\nlow,high,4,2,small,med,unacc\\nlow,high,4,2,small,high,unacc\\nlow,high,4,2,med,low,unacc\\nlow,high,4,2,med,med,unacc\\nlow,high,4,2,med,high,unacc\\nlow,high,4,2,big,low,unacc\\nlow,high,4,2,big,med,unacc\\nlow,high,4,2,big,high,unacc\\nlow,high,4,4,small,low,unacc\\nlow,high,4,4,small,med,acc\\nlow,high,4,4,small,high,acc\\nlow,high,4,4,med,low,unacc\\nlow,high,4,4,med,med,acc\\nlow,high,4,4,med,high,vgood\\nlow,high,4,4,big,low,unacc\\nlow,high,4,4,big,med,acc\\nlow,high,4,4,big,high,vgood\\nlow,high,4,more,small,low,unacc\\nlow,high,4,more,small,med,acc\\nlow,high,4,more,small,high,acc\\nlow,high,4,more,med,low,unacc\\nlow,high,4,more,med,med,acc\\nlow,high,4,more,med,high,vgood\\nlow,high,4,more,big,low,unacc\\nlow,high,4,more,big,med,acc\\nlow,high,4,more,big,high,vgood\\nlow,high,5more,2,small,low,unacc\\nlow,high,5more,2,small,med,unacc\\nlow,high,5more,2,small,high,unacc\\nlow,high,5more,2,med,low,unacc\\nlow,high,5more,2,med,med,unacc\\nlow,high,5more,2,med,high,unacc\\nlow,high,5more,2,big,low,unacc\\nlow,high,5more,2,big,med,unacc\\nlow,high,5more,2,big,high,unacc\\nlow,high,5more,4,small,low,unacc\\nlow,high,5more,4,small,med,acc\\nlow,high,5more,4,small,high,acc\\nlow,high,5more,4,med,low,unacc\\nlow,high,5more,4,med,med,acc\\nlow,high,5more,4,med,high,vgood\\nlow,high,5more,4,big,low,unacc\\nlow,high,5more,4,big,med,acc\\nlow,high,5more,4,big,high,vgood\\nlow,high,5more,more,small,low,unacc\\nlow,high,5more,more,small,med,acc\\nlow,high,5more,more,small,high,acc\\nlow,high,5more,more,med,low,unacc\\nlow,high,5more,more,med,med,acc\\nlow,high,5more,more,med,high,vgood\\nlow,high,5more,more,big,low,unacc\\nlow,high,5more,more,big,med,acc\\nlow,high,5more,more,big,high,vgood\\nlow,med,2,2,small,low,unacc\\nlow,med,2,2,small,med,unacc\\nlow,med,2,2,small,high,unacc\\nlow,med,2,2,med,low,unacc\\nlow,med,2,2,med,med,unacc\\nlow,med,2,2,med,high,unacc\\nlow,med,2,2,big,low,unacc\\nlow,med,2,2,big,med,unacc\\nlow,med,2,2,big,high,unacc\\nlow,med,2,4,small,low,unacc\\nlow,med,2,4,small,med,acc\\nlow,med,2,4,small,high,good\\nlow,med,2,4,med,low,unacc\\nlow,med,2,4,med,med,acc\\nlow,med,2,4,med,high,good\\nlow,med,2,4,big,low,unacc\\nlow,med,2,4,big,med,good\\nlow,med,2,4,big,high,vgood\\nlow,med,2,more,small,low,unacc\\nlow,med,2,more,small,med,unacc\\nlow,med,2,more,small,high,unacc\\nlow,med,2,more,med,low,unacc\\nlow,med,2,more,med,med,acc\\nlow,med,2,more,med,high,good\\nlow,med,2,more,big,low,unacc\\nlow,med,2,more,big,med,good\\nlow,med,2,more,big,high,vgood\\nlow,med,3,2,small,low,unacc\\nlow,med,3,2,small,med,unacc\\nlow,med,3,2,small,high,unacc\\nlow,med,3,2,med,low,unacc\\nlow,med,3,2,med,med,unacc\\nlow,med,3,2,med,high,unacc\\nlow,med,3,2,big,low,unacc\\nlow,med,3,2,big,med,unacc\\nlow,med,3,2,big,high,unacc\\nlow,med,3,4,small,low,unacc\\nlow,med,3,4,small,med,acc\\nlow,med,3,4,small,high,good\\nlow,med,3,4,med,low,unacc\\nlow,med,3,4,med,med,acc\\nlow,med,3,4,med,high,good\\nlow,med,3,4,big,low,unacc\\nlow,med,3,4,big,med,good\\nlow,med,3,4,big,high,vgood\\nlow,med,3,more,small,low,unacc\\nlow,med,3,more,small,med,acc\\nlow,med,3,more,small,high,good\\nlow,med,3,more,med,low,unacc\\nlow,med,3,more,med,med,good\\nlow,med,3,more,med,high,vgood\\nlow,med,3,more,big,low,unacc\\nlow,med,3,more,big,med,good\\nlow,med,3,more,big,high,vgood\\nlow,med,4,2,small,low,unacc\\nlow,med,4,2,small,med,unacc\\nlow,med,4,2,small,high,unacc\\nlow,med,4,2,med,low,unacc\\nlow,med,4,2,med,med,unacc\\nlow,med,4,2,med,high,unacc\\nlow,med,4,2,big,low,unacc\\nlow,med,4,2,big,med,unacc\\nlow,med,4,2,big,high,unacc\\nlow,med,4,4,small,low,unacc\\nlow,med,4,4,small,med,acc\\nlow,med,4,4,small,high,good\\nlow,med,4,4,med,low,unacc\\nlow,med,4,4,med,med,good\\nlow,med,4,4,med,high,vgood\\nlow,med,4,4,big,low,unacc\\nlow,med,4,4,big,med,good\\nlow,med,4,4,big,high,vgood\\nlow,med,4,more,small,low,unacc\\nlow,med,4,more,small,med,acc\\nlow,med,4,more,small,high,good\\nlow,med,4,more,med,low,unacc\\nlow,med,4,more,med,med,good\\nlow,med,4,more,med,high,vgood\\nlow,med,4,more,big,low,unacc\\nlow,med,4,more,big,med,good\\nlow,med,4,more,big,high,vgood\\nlow,med,5more,2,small,low,unacc\\nlow,med,5more,2,small,med,unacc\\nlow,med,5more,2,small,high,unacc\\nlow,med,5more,2,med,low,unacc\\nlow,med,5more,2,med,med,unacc\\nlow,med,5more,2,med,high,unacc\\nlow,med,5more,2,big,low,unacc\\nlow,med,5more,2,big,med,unacc\\nlow,med,5more,2,big,high,unacc\\nlow,med,5more,4,small,low,unacc\\nlow,med,5more,4,small,med,acc\\nlow,med,5more,4,small,high,good\\nlow,med,5more,4,med,low,unacc\\nlow,med,5more,4,med,med,good\\nlow,med,5more,4,med,high,vgood\\nlow,med,5more,4,big,low,unacc\\nlow,med,5more,4,big,med,good\\nlow,med,5more,4,big,high,vgood\\nlow,med,5more,more,small,low,unacc\\nlow,med,5more,more,small,med,acc\\nlow,med,5more,more,small,high,good\\nlow,med,5more,more,med,low,unacc\\nlow,med,5more,more,med,med,good\\nlow,med,5more,more,med,high,vgood\\nlow,med,5more,more,big,low,unacc\\nlow,med,5more,more,big,med,good\\nlow,med,5more,more,big,high,vgood\\nlow,low,2,2,small,low,unacc\\nlow,low,2,2,small,med,unacc\\nlow,low,2,2,small,high,unacc\\nlow,low,2,2,med,low,unacc\\nlow,low,2,2,med,med,unacc\\nlow,low,2,2,med,high,unacc\\nlow,low,2,2,big,low,unacc\\nlow,low,2,2,big,med,unacc\\nlow,low,2,2,big,high,unacc\\nlow,low,2,4,small,low,unacc\\nlow,low,2,4,small,med,acc\\nlow,low,2,4,small,high,good\\nlow,low,2,4,med,low,unacc\\nlow,low,2,4,med,med,acc\\nlow,low,2,4,med,high,good\\nlow,low,2,4,big,low,unacc\\nlow,low,2,4,big,med,good\\nlow,low,2,4,big,high,vgood\\nlow,low,2,more,small,low,unacc\\nlow,low,2,more,small,med,unacc\\nlow,low,2,more,small,high,unacc\\nlow,low,2,more,med,low,unacc\\nlow,low,2,more,med,med,acc\\nlow,low,2,more,med,high,good\\nlow,low,2,more,big,low,unacc\\nlow,low,2,more,big,med,good\\nlow,low,2,more,big,high,vgood\\nlow,low,3,2,small,low,unacc\\nlow,low,3,2,small,med,unacc\\nlow,low,3,2,small,high,unacc\\nlow,low,3,2,med,low,unacc\\nlow,low,3,2,med,med,unacc\\nlow,low,3,2,med,high,unacc\\nlow,low,3,2,big,low,unacc\\nlow,low,3,2,big,med,unacc\\nlow,low,3,2,big,high,unacc\\nlow,low,3,4,small,low,unacc\\nlow,low,3,4,small,med,acc\\nlow,low,3,4,small,high,good\\nlow,low,3,4,med,low,unacc\\nlow,low,3,4,med,med,acc\\nlow,low,3,4,med,high,good\\nlow,low,3,4,big,low,unacc\\nlow,low,3,4,big,med,good\\nlow,low,3,4,big,high,vgood\\nlow,low,3,more,small,low,unacc\\nlow,low,3,more,small,med,acc\\nlow,low,3,more,small,high,good\\nlow,low,3,more,med,low,unacc\\nlow,low,3,more,med,med,good\\nlow,low,3,more,med,high,vgood\\nlow,low,3,more,big,low,unacc\\nlow,low,3,more,big,med,good\\nlow,low,3,more,big,high,vgood\\nlow,low,4,2,small,low,unacc\\nlow,low,4,2,small,med,unacc\\nlow,low,4,2,small,high,unacc\\nlow,low,4,2,med,low,unacc\\nlow,low,4,2,med,med,unacc\\nlow,low,4,2,med,high,unacc\\nlow,low,4,2,big,low,unacc\\nlow,low,4,2,big,med,unacc\\nlow,low,4,2,big,high,unacc\\nlow,low,4,4,small,low,unacc\\nlow,low,4,4,small,med,acc\\nlow,low,4,4,small,high,good\\nlow,low,4,4,med,low,unacc\\nlow,low,4,4,med,med,good\\nlow,low,4,4,med,high,vgood\\nlow,low,4,4,big,low,unacc\\nlow,low,4,4,big,med,good\\nlow,low,4,4,big,high,vgood\\nlow,low,4,more,small,low,unacc\\nlow,low,4,more,small,med,acc\\nlow,low,4,more,small,high,good\\nlow,low,4,more,med,low,unacc\\nlow,low,4,more,med,med,good\\nlow,low,4,more,med,high,vgood\\nlow,low,4,more,big,low,unacc\\nlow,low,4,more,big,med,good\\nlow,low,4,more,big,high,vgood\\nlow,low,5more,2,small,low,unacc\\nlow,low,5more,2,small,med,unacc\\nlow,low,5more,2,small,high,unacc\\nlow,low,5more,2,med,low,unacc\\nlow,low,5more,2,med,med,unacc\\nlow,low,5more,2,med,high,unacc\\nlow,low,5more,2,big,low,unacc\\nlow,low,5more,2,big,med,unacc\\nlow,low,5more,2,big,high,unacc\\nlow,low,5more,4,small,low,unacc\\nlow,low,5more,4,small,med,acc\\nlow,low,5more,4,small,high,good\\nlow,low,5more,4,med,low,unacc\\nlow,low,5more,4,med,med,good\\nlow,low,5more,4,med,high,vgood\\nlow,low,5more,4,big,low,unacc\\nlow,low,5more,4,big,med,good\\nlow,low,5more,4,big,high,vgood\\nlow,low,5more,more,small,low,unacc\\nlow,low,5more,more,small,med,acc\\nlow,low,5more,more,small,high,good\\nlow,low,5more,more,med,low,unacc\\nlow,low,5more,more,med,med,good\\nlow,low,5more,more,med,high,vgood\\nlow,low,5more,more,big,low,unacc\\nlow,low,5more,more,big,med,good\\nlow,low,5more,more,big,high,vgood\\n'}"
            ]
          },
          "metadata": {
            "tags": []
          },
          "execution_count": 32
        }
      ]
    },
    {
      "cell_type": "code",
      "metadata": {
        "id": "5jHaeoCyitGx",
        "colab_type": "code",
        "colab": {
          "base_uri": "https://localhost:8080/",
          "height": 203
        },
        "outputId": "c4024f6f-1d6c-4fbe-940e-5ebf0879d9d2"
      },
      "source": [
        "names = ['sepallength', 'sepalwidth', 'petallength', 'petalwidth', 'class']\n",
        "data = pd.read_csv(\"iris.data\", names = names)\n",
        "data.head()"
      ],
      "execution_count": 36,
      "outputs": [
        {
          "output_type": "execute_result",
          "data": {
            "text/html": [
              "<div>\n",
              "<style scoped>\n",
              "    .dataframe tbody tr th:only-of-type {\n",
              "        vertical-align: middle;\n",
              "    }\n",
              "\n",
              "    .dataframe tbody tr th {\n",
              "        vertical-align: top;\n",
              "    }\n",
              "\n",
              "    .dataframe thead th {\n",
              "        text-align: right;\n",
              "    }\n",
              "</style>\n",
              "<table border=\"1\" class=\"dataframe\">\n",
              "  <thead>\n",
              "    <tr style=\"text-align: right;\">\n",
              "      <th></th>\n",
              "      <th>sepallength</th>\n",
              "      <th>sepalwidth</th>\n",
              "      <th>petallength</th>\n",
              "      <th>petalwidth</th>\n",
              "      <th>class</th>\n",
              "    </tr>\n",
              "  </thead>\n",
              "  <tbody>\n",
              "    <tr>\n",
              "      <th>0</th>\n",
              "      <td>5.1</td>\n",
              "      <td>3.5</td>\n",
              "      <td>1.4</td>\n",
              "      <td>0.2</td>\n",
              "      <td>Iris-setosa</td>\n",
              "    </tr>\n",
              "    <tr>\n",
              "      <th>1</th>\n",
              "      <td>4.9</td>\n",
              "      <td>3.0</td>\n",
              "      <td>1.4</td>\n",
              "      <td>0.2</td>\n",
              "      <td>Iris-setosa</td>\n",
              "    </tr>\n",
              "    <tr>\n",
              "      <th>2</th>\n",
              "      <td>4.7</td>\n",
              "      <td>3.2</td>\n",
              "      <td>1.3</td>\n",
              "      <td>0.2</td>\n",
              "      <td>Iris-setosa</td>\n",
              "    </tr>\n",
              "    <tr>\n",
              "      <th>3</th>\n",
              "      <td>4.6</td>\n",
              "      <td>3.1</td>\n",
              "      <td>1.5</td>\n",
              "      <td>0.2</td>\n",
              "      <td>Iris-setosa</td>\n",
              "    </tr>\n",
              "    <tr>\n",
              "      <th>4</th>\n",
              "      <td>5.0</td>\n",
              "      <td>3.6</td>\n",
              "      <td>1.4</td>\n",
              "      <td>0.2</td>\n",
              "      <td>Iris-setosa</td>\n",
              "    </tr>\n",
              "  </tbody>\n",
              "</table>\n",
              "</div>"
            ],
            "text/plain": [
              "   sepallength  sepalwidth  petallength  petalwidth        class\n",
              "0          5.1         3.5          1.4         0.2  Iris-setosa\n",
              "1          4.9         3.0          1.4         0.2  Iris-setosa\n",
              "2          4.7         3.2          1.3         0.2  Iris-setosa\n",
              "3          4.6         3.1          1.5         0.2  Iris-setosa\n",
              "4          5.0         3.6          1.4         0.2  Iris-setosa"
            ]
          },
          "metadata": {
            "tags": []
          },
          "execution_count": 36
        }
      ]
    },
    {
      "cell_type": "markdown",
      "metadata": {
        "id": "mq_aQjxlM-u5",
        "colab_type": "text"
      },
      "source": [
        "## 3) Load a dataset from UCI using `!wget`\n",
        "\n",
        "\"Shell Out\" and try loading a file directly into your google colab's memory using the `!wget` command and then read it in with `read_csv`.\n",
        "\n",
        "With this file we'll do a bit more to it.\n",
        "\n",
        "- Read it in, fix any problems with the header as make sure missing values are encoded as `NaN`.\n",
        "- Use the `.fillna()` method to fill any missing values. \n",
        " - [.fillna() documentation](https://pandas.pydata.org/pandas-docs/stable/reference/api/pandas.DataFrame.fillna.html)\n",
        "- Create one of each of the following plots using the Pandas plotting functionality:\n",
        " - Scatterplot\n",
        " - Histogram\n",
        " - Density Plot\n"
      ]
    },
    {
      "cell_type": "code",
      "metadata": {
        "id": "mTbWD96XrzAO",
        "colab_type": "code",
        "colab": {
          "base_uri": "https://localhost:8080/",
          "height": 211
        },
        "outputId": "e655a0ea-7ba6-4078-f5ff-c3652c85e622"
      },
      "source": [
        "!wget https://archive.ics.uci.edu/ml/machine-learning-databases/car/car.data"
      ],
      "execution_count": 37,
      "outputs": [
        {
          "output_type": "stream",
          "text": [
            "--2019-08-06 20:49:10--  https://archive.ics.uci.edu/ml/machine-learning-databases/car/car.data\n",
            "Resolving archive.ics.uci.edu (archive.ics.uci.edu)... 128.195.10.252\n",
            "Connecting to archive.ics.uci.edu (archive.ics.uci.edu)|128.195.10.252|:443... connected.\n",
            "HTTP request sent, awaiting response... 200 OK\n",
            "Length: 51867 (51K) [application/x-httpd-php]\n",
            "Saving to: ‘car.data.1’\n",
            "\n",
            "\rcar.data.1            0%[                    ]       0  --.-KB/s               \rcar.data.1          100%[===================>]  50.65K  --.-KB/s    in 0.06s   \n",
            "\n",
            "2019-08-06 20:49:10 (819 KB/s) - ‘car.data.1’ saved [51867/51867]\n",
            "\n"
          ],
          "name": "stdout"
        }
      ]
    },
    {
      "cell_type": "code",
      "metadata": {
        "id": "k84t61MEsX6V",
        "colab_type": "code",
        "colab": {
          "base_uri": "https://localhost:8080/",
          "height": 203
        },
        "outputId": "6bf2c806-1514-4084-e5c9-9df1a7082866"
      },
      "source": [
        "names = ['buying', 'maint', 'doors', 'persons', 'lug_boot', 'safety', 'class']\n",
        "car_data = pd.read_csv('car.data.1', names = names)\n",
        "car_data.isna().sum()\n",
        "car_data.head()"
      ],
      "execution_count": 76,
      "outputs": [
        {
          "output_type": "execute_result",
          "data": {
            "text/html": [
              "<div>\n",
              "<style scoped>\n",
              "    .dataframe tbody tr th:only-of-type {\n",
              "        vertical-align: middle;\n",
              "    }\n",
              "\n",
              "    .dataframe tbody tr th {\n",
              "        vertical-align: top;\n",
              "    }\n",
              "\n",
              "    .dataframe thead th {\n",
              "        text-align: right;\n",
              "    }\n",
              "</style>\n",
              "<table border=\"1\" class=\"dataframe\">\n",
              "  <thead>\n",
              "    <tr style=\"text-align: right;\">\n",
              "      <th></th>\n",
              "      <th>buying</th>\n",
              "      <th>maint</th>\n",
              "      <th>doors</th>\n",
              "      <th>persons</th>\n",
              "      <th>lug_boot</th>\n",
              "      <th>safety</th>\n",
              "      <th>class</th>\n",
              "    </tr>\n",
              "  </thead>\n",
              "  <tbody>\n",
              "    <tr>\n",
              "      <th>0</th>\n",
              "      <td>vhigh</td>\n",
              "      <td>vhigh</td>\n",
              "      <td>2</td>\n",
              "      <td>2</td>\n",
              "      <td>small</td>\n",
              "      <td>low</td>\n",
              "      <td>unacc</td>\n",
              "    </tr>\n",
              "    <tr>\n",
              "      <th>1</th>\n",
              "      <td>vhigh</td>\n",
              "      <td>vhigh</td>\n",
              "      <td>2</td>\n",
              "      <td>2</td>\n",
              "      <td>small</td>\n",
              "      <td>med</td>\n",
              "      <td>unacc</td>\n",
              "    </tr>\n",
              "    <tr>\n",
              "      <th>2</th>\n",
              "      <td>vhigh</td>\n",
              "      <td>vhigh</td>\n",
              "      <td>2</td>\n",
              "      <td>2</td>\n",
              "      <td>small</td>\n",
              "      <td>high</td>\n",
              "      <td>unacc</td>\n",
              "    </tr>\n",
              "    <tr>\n",
              "      <th>3</th>\n",
              "      <td>vhigh</td>\n",
              "      <td>vhigh</td>\n",
              "      <td>2</td>\n",
              "      <td>2</td>\n",
              "      <td>med</td>\n",
              "      <td>low</td>\n",
              "      <td>unacc</td>\n",
              "    </tr>\n",
              "    <tr>\n",
              "      <th>4</th>\n",
              "      <td>vhigh</td>\n",
              "      <td>vhigh</td>\n",
              "      <td>2</td>\n",
              "      <td>2</td>\n",
              "      <td>med</td>\n",
              "      <td>med</td>\n",
              "      <td>unacc</td>\n",
              "    </tr>\n",
              "  </tbody>\n",
              "</table>\n",
              "</div>"
            ],
            "text/plain": [
              "  buying  maint doors persons lug_boot safety  class\n",
              "0  vhigh  vhigh     2       2    small    low  unacc\n",
              "1  vhigh  vhigh     2       2    small    med  unacc\n",
              "2  vhigh  vhigh     2       2    small   high  unacc\n",
              "3  vhigh  vhigh     2       2      med    low  unacc\n",
              "4  vhigh  vhigh     2       2      med    med  unacc"
            ]
          },
          "metadata": {
            "tags": []
          },
          "execution_count": 76
        }
      ]
    },
    {
      "cell_type": "code",
      "metadata": {
        "id": "0nPD3CuGsjgC",
        "colab_type": "code",
        "colab": {
          "base_uri": "https://localhost:8080/",
          "height": 203
        },
        "outputId": "b2c74769-84af-458f-8b65-ac61c9f553ea"
      },
      "source": [
        "import numpy as np\n",
        "# car_data.fillna(np.NaN)\n",
        "\n",
        "class_enum = {\"unacc\": 0, \"acc\": 1, \"good\": 2, \"vgood\": 3}\n",
        "car_data['class'] = car_data['class'].map(class_enum)\n",
        "car_data.tail()"
      ],
      "execution_count": 77,
      "outputs": [
        {
          "output_type": "execute_result",
          "data": {
            "text/html": [
              "<div>\n",
              "<style scoped>\n",
              "    .dataframe tbody tr th:only-of-type {\n",
              "        vertical-align: middle;\n",
              "    }\n",
              "\n",
              "    .dataframe tbody tr th {\n",
              "        vertical-align: top;\n",
              "    }\n",
              "\n",
              "    .dataframe thead th {\n",
              "        text-align: right;\n",
              "    }\n",
              "</style>\n",
              "<table border=\"1\" class=\"dataframe\">\n",
              "  <thead>\n",
              "    <tr style=\"text-align: right;\">\n",
              "      <th></th>\n",
              "      <th>buying</th>\n",
              "      <th>maint</th>\n",
              "      <th>doors</th>\n",
              "      <th>persons</th>\n",
              "      <th>lug_boot</th>\n",
              "      <th>safety</th>\n",
              "      <th>class</th>\n",
              "    </tr>\n",
              "  </thead>\n",
              "  <tbody>\n",
              "    <tr>\n",
              "      <th>1723</th>\n",
              "      <td>low</td>\n",
              "      <td>low</td>\n",
              "      <td>5more</td>\n",
              "      <td>more</td>\n",
              "      <td>med</td>\n",
              "      <td>med</td>\n",
              "      <td>2</td>\n",
              "    </tr>\n",
              "    <tr>\n",
              "      <th>1724</th>\n",
              "      <td>low</td>\n",
              "      <td>low</td>\n",
              "      <td>5more</td>\n",
              "      <td>more</td>\n",
              "      <td>med</td>\n",
              "      <td>high</td>\n",
              "      <td>3</td>\n",
              "    </tr>\n",
              "    <tr>\n",
              "      <th>1725</th>\n",
              "      <td>low</td>\n",
              "      <td>low</td>\n",
              "      <td>5more</td>\n",
              "      <td>more</td>\n",
              "      <td>big</td>\n",
              "      <td>low</td>\n",
              "      <td>0</td>\n",
              "    </tr>\n",
              "    <tr>\n",
              "      <th>1726</th>\n",
              "      <td>low</td>\n",
              "      <td>low</td>\n",
              "      <td>5more</td>\n",
              "      <td>more</td>\n",
              "      <td>big</td>\n",
              "      <td>med</td>\n",
              "      <td>2</td>\n",
              "    </tr>\n",
              "    <tr>\n",
              "      <th>1727</th>\n",
              "      <td>low</td>\n",
              "      <td>low</td>\n",
              "      <td>5more</td>\n",
              "      <td>more</td>\n",
              "      <td>big</td>\n",
              "      <td>high</td>\n",
              "      <td>3</td>\n",
              "    </tr>\n",
              "  </tbody>\n",
              "</table>\n",
              "</div>"
            ],
            "text/plain": [
              "     buying maint  doors persons lug_boot safety  class\n",
              "1723    low   low  5more    more      med    med      2\n",
              "1724    low   low  5more    more      med   high      3\n",
              "1725    low   low  5more    more      big    low      0\n",
              "1726    low   low  5more    more      big    med      2\n",
              "1727    low   low  5more    more      big   high      3"
            ]
          },
          "metadata": {
            "tags": []
          },
          "execution_count": 77
        }
      ]
    },
    {
      "cell_type": "code",
      "metadata": {
        "id": "49F2raXyw57o",
        "colab_type": "code",
        "colab": {
          "base_uri": "https://localhost:8080/",
          "height": 269
        },
        "outputId": "9241b732-5494-47c6-a79a-56c5f2b38d20"
      },
      "source": [
        "car_data['class'].hist(bins = 19);"
      ],
      "execution_count": 78,
      "outputs": [
        {
          "output_type": "display_data",
          "data": {
            "image/png": "[encoded data removed]",
            "text/plain": [
              "<Figure size 432x288 with 1 Axes>"
            ]
          },
          "metadata": {
            "tags": []
          }
        }
      ]
    },
    {
      "cell_type": "markdown",
      "metadata": {
        "id": "MZCxTwKuReV9",
        "colab_type": "text"
      },
      "source": [
        "## Stretch Goals - Other types and sources of data\n",
        "\n",
        "Not all data comes in a nice single file - for example, image classification involves handling lots of image files. You still will probably want labels for them, so you may have tabular data in addition to the image blobs - and the images may be reduced in resolution and even fit in a regular csv as a bunch of numbers.\n",
        "\n",
        "If you're interested in natural language processing and analyzing text, that is another example where, while it can be put in a csv, you may end up loading much larger raw data and generating features that can then be thought of in a more standard tabular fashion.\n",
        "\n",
        "Overall you will in the course of learning data science deal with loading data in a variety of ways. Another common way to get data is from a database - most modern applications are backed by one or more databases, which you can query to get data to analyze. We'll cover this more in our data engineering unit.\n",
        "\n",
        "How does data get in the database? Most applications generate logs - text files with lots and lots of records of each use of the application. Databases are often populated based on these files, but in some situations you may directly analyze log files. The usual way to do this is with command line (Unix) tools - command lines are intimidating, so don't expect to learn them all at once, but depending on your interests it can be useful to practice.\n",
        "\n",
        "One last major source of data is APIs: https://github.com/toddmotto/public-apis\n",
        "\n",
        "API stands for Application Programming Interface, and while originally meant e.g. the way an application interfaced with the GUI or other aspects of an operating system, now it largely refers to online services that let you query and retrieve data. You can essentially think of most of them as \"somebody else's database\" - you have (usually limited) access.\n",
        "\n",
        "*Stretch goal* - research one of the above extended forms of data/data loading. See if you can get a basic example working in a notebook. Image, text, or (public) APIs are probably more tractable - databases are interesting, but there aren't many publicly accessible and they require a great deal of setup."
      ]
    },
    {
      "cell_type": "code",
      "metadata": {
        "id": "f4QP6--JBXNK",
        "colab_type": "code",
        "colab": {}
      },
      "source": [
        ""
      ],
      "execution_count": 0,
      "outputs": []
    }
  ]
}